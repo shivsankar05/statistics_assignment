{
  "nbformat": 4,
  "nbformat_minor": 0,
  "metadata": {
    "colab": {
      "provenance": []
    },
    "kernelspec": {
      "name": "python3",
      "display_name": "Python 3"
    },
    "language_info": {
      "name": "python"
    }
  },
  "cells": [
    {
      "cell_type": "markdown",
      "source": [
        "1.Generate a list of 100 integers containing values between 90 to 130 and store it in the variable 'int-list'. after generating list find the following"
      ],
      "metadata": {
        "id": "hzZFEPrqaZmi"
      }
    },
    {
      "cell_type": "code",
      "source": [
        "import pandas as pd\n",
        "import numpy as np\n",
        "import seaborn as sns\n",
        "int_list= np.random.randint(90, 130, 100)\n",
        "int_list"
      ],
      "metadata": {
        "colab": {
          "base_uri": "https://localhost:8080/"
        },
        "id": "8h5JLce9b-xl",
        "outputId": "48c4ac6f-2de9-48b4-d8e9-52d6f118ca7f"
      },
      "execution_count": null,
      "outputs": [
        {
          "output_type": "execute_result",
          "data": {
            "text/plain": [
              "array([126, 104,  98, 120, 100,  95, 128, 123,  98,  94, 124, 114, 122,\n",
              "        96, 106, 107, 117, 105, 129, 101,  92, 117, 126, 103, 128, 113,\n",
              "       117, 115, 102,  97,  91, 128, 127, 122, 126,  94, 124,  96,  95,\n",
              "       116, 104, 119, 123, 125, 111,  90, 111, 109, 119, 102, 115, 120,\n",
              "       106, 105, 121, 129, 123,  97, 112, 127,  95, 112,  93, 121,  94,\n",
              "        90,  95,  91,  93,  94, 124, 125,  94, 120, 105, 129, 117, 124,\n",
              "       110, 119,  94, 102, 102, 100, 113,  95,  99, 108, 109,  92, 110,\n",
              "       106, 119, 109, 105,  97,  99, 125, 116, 105])"
            ]
          },
          "metadata": {},
          "execution_count": 2
        }
      ]
    },
    {
      "cell_type": "code",
      "source": [
        "from statistics import mode\n",
        "print(\"The mean of sample\", np.mean(int_list))\n",
        "print(\"The median of sample\", np.median(int_list))\n",
        "print(\"The mode of sample\",mode(int_list))"
      ],
      "metadata": {
        "colab": {
          "base_uri": "https://localhost:8080/"
        },
        "id": "-h5VPLuucm5B",
        "outputId": "77d09516-8ba3-4888-c034-565c138c7c1b"
      },
      "execution_count": null,
      "outputs": [
        {
          "output_type": "stream",
          "name": "stdout",
          "text": [
            "The mean of sample 109.54\n",
            "The median of sample 109.0\n",
            "The mode of sample 94\n"
          ]
        }
      ]
    },
    {
      "cell_type": "markdown",
      "source": [
        "2.Generate a list of 500 integers containing values 200 to 300 and store in in the variable 'int-list2'. after generating the list find the following"
      ],
      "metadata": {
        "id": "BKj1BrG7fFeS"
      }
    },
    {
      "cell_type": "code",
      "source": [
        "import pandas as pd\n",
        "import numpy as np\n",
        "import seaborn as sns\n",
        "int_list2= np.random.randint(200, 300, 500)\n",
        "int_list2"
      ],
      "metadata": {
        "colab": {
          "base_uri": "https://localhost:8080/"
        },
        "id": "VpS8ImMNgF93",
        "outputId": "35818906-4278-4893-bd0b-a140259114b4"
      },
      "execution_count": null,
      "outputs": [
        {
          "output_type": "execute_result",
          "data": {
            "text/plain": [
              "array([286, 282, 237, 296, 284, 260, 246, 222, 203, 229, 291, 246, 256,\n",
              "       251, 285, 297, 224, 226, 257, 245, 290, 289, 205, 209, 221, 291,\n",
              "       214, 227, 293, 242, 296, 254, 297, 292, 232, 216, 211, 243, 279,\n",
              "       224, 216, 207, 229, 217, 266, 258, 260, 236, 212, 242, 238, 284,\n",
              "       245, 203, 266, 236, 250, 223, 228, 244, 206, 237, 255, 210, 271,\n",
              "       267, 238, 261, 296, 200, 207, 205, 286, 229, 277, 255, 297, 203,\n",
              "       231, 286, 251, 228, 219, 202, 259, 220, 203, 248, 283, 253, 209,\n",
              "       244, 274, 206, 213, 266, 246, 229, 253, 265, 219, 293, 225, 207,\n",
              "       279, 298, 230, 207, 284, 294, 237, 271, 210, 286, 272, 223, 205,\n",
              "       298, 290, 206, 203, 216, 200, 206, 209, 264, 215, 273, 289, 232,\n",
              "       293, 249, 242, 243, 250, 248, 228, 210, 284, 227, 228, 257, 289,\n",
              "       234, 251, 294, 281, 271, 224, 262, 276, 272, 254, 202, 254, 295,\n",
              "       207, 289, 218, 289, 233, 244, 236, 245, 270, 228, 224, 267, 216,\n",
              "       217, 292, 275, 296, 273, 277, 289, 295, 220, 235, 260, 290, 211,\n",
              "       206, 226, 241, 266, 272, 272, 272, 251, 222, 239, 225, 272, 269,\n",
              "       207, 288, 233, 234, 217, 247, 245, 269, 242, 273, 279, 200, 270,\n",
              "       296, 218, 284, 278, 260, 299, 243, 268, 230, 281, 286, 264, 227,\n",
              "       251, 247, 230, 231, 297, 278, 272, 285, 227, 289, 219, 246, 267,\n",
              "       282, 241, 270, 261, 266, 226, 262, 294, 299, 200, 288, 263, 237,\n",
              "       293, 221, 265, 284, 274, 265, 271, 213, 256, 202, 282, 263, 262,\n",
              "       214, 205, 281, 265, 237, 297, 208, 214, 211, 238, 216, 235, 236,\n",
              "       239, 258, 201, 218, 206, 221, 200, 202, 205, 209, 284, 277, 221,\n",
              "       265, 205, 204, 280, 218, 220, 209, 288, 259, 202, 228, 240, 234,\n",
              "       248, 203, 282, 254, 277, 293, 286, 289, 264, 232, 255, 225, 228,\n",
              "       270, 212, 234, 200, 255, 278, 293, 296, 201, 245, 270, 226, 298,\n",
              "       280, 222, 273, 225, 238, 234, 261, 282, 241, 217, 240, 284, 260,\n",
              "       286, 234, 226, 211, 229, 243, 223, 292, 237, 204, 282, 210, 237,\n",
              "       224, 237, 234, 202, 227, 243, 210, 286, 298, 246, 269, 296, 259,\n",
              "       251, 288, 266, 277, 274, 290, 261, 271, 243, 228, 221, 253, 272,\n",
              "       248, 246, 225, 211, 212, 250, 211, 275, 263, 235, 254, 201, 273,\n",
              "       215, 280, 204, 290, 274, 240, 223, 279, 259, 221, 298, 248, 215,\n",
              "       224, 271, 206, 233, 275, 297, 274, 228, 241, 234, 250, 286, 288,\n",
              "       208, 279, 231, 278, 216, 240, 283, 247, 223, 264, 266, 284, 292,\n",
              "       206, 263, 277, 262, 277, 234, 240, 256, 215, 283, 284, 218, 235,\n",
              "       207, 213, 235, 264, 230, 271, 217, 257, 263, 269, 285, 242, 279,\n",
              "       255, 263, 209, 262, 253, 201, 283, 214, 240, 259, 284, 282, 235,\n",
              "       263, 242, 212, 262, 270, 258, 272, 296, 232, 243, 253, 243, 211,\n",
              "       219, 240, 285, 201, 229, 270, 212, 253, 288, 213, 264, 277, 255,\n",
              "       256, 281, 256, 213, 222, 204])"
            ]
          },
          "metadata": {},
          "execution_count": 6
        }
      ]
    },
    {
      "cell_type": "code",
      "source": [
        "from statistics import mode\n",
        "print(\"The mean of sample\", np.mean(int_list2))\n",
        "print(\"The median of sample\", np.median(int_list2))\n",
        "print(\"The mode of sample\",mode(int_list2))"
      ],
      "metadata": {
        "colab": {
          "base_uri": "https://localhost:8080/"
        },
        "id": "C1v7DxzfgYto",
        "outputId": "02ca41d5-8931-474c-9e2c-33cd32cbee56"
      },
      "execution_count": null,
      "outputs": [
        {
          "output_type": "stream",
          "name": "stdout",
          "text": [
            "The mean of sample 248.694\n",
            "The median of sample 248.0\n",
            "The mode of sample 284\n"
          ]
        }
      ]
    },
    {
      "cell_type": "code",
      "source": [
        "sns.distplot(int_list2, kde=True)"
      ],
      "metadata": {
        "colab": {
          "base_uri": "https://localhost:8080/",
          "height": 638
        },
        "id": "Nu-gg0Yng2xT",
        "outputId": "e1cadc8f-2d80-42b0-9d79-48ac3289595e"
      },
      "execution_count": null,
      "outputs": [
        {
          "output_type": "stream",
          "name": "stderr",
          "text": [
            "<ipython-input-9-d11b9bbbe148>:1: UserWarning: \n",
            "\n",
            "`distplot` is a deprecated function and will be removed in seaborn v0.14.0.\n",
            "\n",
            "Please adapt your code to use either `displot` (a figure-level function with\n",
            "similar flexibility) or `histplot` (an axes-level function for histograms).\n",
            "\n",
            "For a guide to updating your code to use the new functions, please see\n",
            "https://gist.github.com/mwaskom/de44147ed2974457ad6372750bbe5751\n",
            "\n",
            "  sns.distplot(int_list2, kde=True)\n"
          ]
        },
        {
          "output_type": "execute_result",
          "data": {
            "text/plain": [
              "<Axes: ylabel='Density'>"
            ]
          },
          "metadata": {},
          "execution_count": 9
        },
        {
          "output_type": "display_data",
          "data": {
            "text/plain": [
              "<Figure size 640x480 with 1 Axes>"
            ],
            "image/png": "[encoded data removed]"
          },
          "metadata": {}
        }
      ]
    },
    {
      "cell_type": "code",
      "source": [
        "sns.histplot(int_list2, kde=True)"
      ],
      "metadata": {
        "colab": {
          "base_uri": "https://localhost:8080/",
          "height": 447
        },
        "id": "w4LZbMJihIcZ",
        "outputId": "daa977c9-8132-459c-c9a1-e07930c9ce05"
      },
      "execution_count": null,
      "outputs": [
        {
          "output_type": "execute_result",
          "data": {
            "text/plain": [
              "<Axes: ylabel='Count'>"
            ]
          },
          "metadata": {},
          "execution_count": 10
        },
        {
          "output_type": "display_data",
          "data": {
            "text/plain": [
              "<Figure size 640x480 with 1 Axes>"
            ],
            "image/png": "[encoded data removed]"
          },
          "metadata": {}
        }
      ]
    },
    {
      "cell_type": "code",
      "source": [
        "np.std(int_list2)"
      ],
      "metadata": {
        "colab": {
          "base_uri": "https://localhost:8080/"
        },
        "id": "0omVH8QahXu7",
        "outputId": "c0b08056-fb72-4d6b-a946-6fdc5eb8240f"
      },
      "execution_count": null,
      "outputs": [
        {
          "output_type": "execute_result",
          "data": {
            "text/plain": [
              "29.163545120578192"
            ]
          },
          "metadata": {},
          "execution_count": 11
        }
      ]
    },
    {
      "cell_type": "code",
      "source": [
        "len(int_list2)"
      ],
      "metadata": {
        "colab": {
          "base_uri": "https://localhost:8080/"
        },
        "id": "14BGZFLJhiwN",
        "outputId": "6f1c5861-b523-4b9b-fc44-10eba6b3af61"
      },
      "execution_count": null,
      "outputs": [
        {
          "output_type": "execute_result",
          "data": {
            "text/plain": [
              "500"
            ]
          },
          "metadata": {},
          "execution_count": 12
        }
      ]
    },
    {
      "cell_type": "markdown",
      "source": [
        "3.  Write a Python class representing a discrete random variable with methods to calculate its expected\n",
        "value and variance."
      ],
      "metadata": {
        "id": "kNI-iL-BipHD"
      }
    },
    {
      "cell_type": "code",
      "source": [
        "data=np.random.normal(0.5, 0.2, 1000)\n",
        "data"
      ],
      "metadata": {
        "colab": {
          "base_uri": "https://localhost:8080/"
        },
        "id": "bpYHeQCjiva_",
        "outputId": "9c42fee1-ae50-4cb4-c528-75fa3fddec00"
      },
      "execution_count": null,
      "outputs": [
        {
          "output_type": "execute_result",
          "data": {
            "text/plain": [
              "array([ 0.51406709,  0.38736135,  0.10980779,  0.68839072,  0.63917636,\n",
              "        0.39168299,  0.60660179,  0.33099536,  0.55085149,  0.32498858,\n",
              "        0.43320897,  0.71067405,  0.66733577,  0.58595205,  0.16248556,\n",
              "        0.40885637,  0.51964609,  0.52603968,  0.65157488,  0.3650683 ,\n",
              "        0.40546508,  0.5838353 ,  0.36024348,  0.63853275,  0.42110929,\n",
              "        0.35884617,  0.75089163,  0.40123958,  0.40543212,  0.74258593,\n",
              "        0.58161649,  0.39276981,  0.19544767,  0.56333305,  0.41394939,\n",
              "        0.59937522,  0.36948611,  0.5645609 ,  0.84812148,  0.23170131,\n",
              "        0.69478837,  0.11612354, -0.02913941,  0.80152079,  0.24656551,\n",
              "        0.46727283,  0.56462188,  0.34748855,  0.59168957,  0.53718276,\n",
              "        0.542858  ,  0.59733483,  0.43460823,  0.46948906,  0.46260515,\n",
              "        0.47866692,  0.59759245,  0.70969147,  0.42001963,  0.61603689,\n",
              "        0.60112753,  0.32398123,  0.60036937,  0.29600159,  0.57042442,\n",
              "        0.54053326,  0.82505855,  0.57325933,  0.64006604,  0.47305831,\n",
              "        0.87965284,  0.39089346,  0.3398619 ,  0.68997061,  0.40310059,\n",
              "        0.17334909,  0.45163297,  0.61201666,  0.34715016,  0.38401367,\n",
              "        0.2116637 ,  0.55477088,  0.61881141,  0.29738582,  0.22970754,\n",
              "        0.19354383,  0.73358854,  0.30770791,  0.12618192,  0.82277826,\n",
              "        0.83688674,  0.4581878 ,  0.37977476,  0.0210678 ,  0.68469441,\n",
              "        0.0783213 ,  0.52335606,  0.83797345,  0.34309041,  0.44518403,\n",
              "        0.67084769,  0.48601211,  0.55286093,  0.759855  ,  0.64442461,\n",
              "        0.68144488,  0.77407883,  0.28358737,  0.64110756,  0.44403951,\n",
              "        0.65542777,  0.19859525,  0.06714405,  0.48129879,  0.56591752,\n",
              "        0.3396679 ,  0.31905526,  0.38434022,  0.55667281,  0.43800234,\n",
              "        0.64322276,  0.61107638,  0.79053843,  0.28052052,  0.41258751,\n",
              "        0.32962255,  0.23851178,  0.71907673,  0.43762811,  0.40578048,\n",
              "        0.67748078,  0.57659215,  0.3155112 ,  0.50572615,  0.41512983,\n",
              "        1.13649255,  0.51800867,  0.36189056,  0.37442978,  0.53154988,\n",
              "        0.68919294,  0.60484139,  0.59754184,  0.4397699 ,  0.23165923,\n",
              "        0.61935558,  0.56269573,  0.46861623,  0.51133375,  0.61647999,\n",
              "        0.25469962,  0.53224061,  0.48773982,  0.56008517,  0.52086079,\n",
              "        0.48820745,  0.96700828,  0.57635014,  0.21085339,  0.50774218,\n",
              "        0.45303838,  0.37704519,  0.9041383 ,  0.22469839,  0.6488149 ,\n",
              "        0.35669884,  0.43605398,  0.19788062,  0.74189851,  0.63835152,\n",
              "        0.64721084,  0.37263965,  0.50433479,  0.32429646,  0.20832497,\n",
              "        0.52429693,  0.30042163,  0.3880887 ,  0.75161243,  0.52017948,\n",
              "        0.61698353,  0.2998927 ,  0.3206746 ,  0.42590303,  0.30680226,\n",
              "        0.64647056,  0.72673785,  0.14099825,  0.13806252,  0.67328145,\n",
              "        0.69303122,  0.46628958,  0.56283864,  0.49479614,  0.59172088,\n",
              "        0.55648056,  0.24367386,  0.45178325,  0.14625706,  0.48978868,\n",
              "        0.4584208 ,  0.49465726,  0.25009212,  0.9120258 ,  0.56773309,\n",
              "        0.3552557 ,  0.5011283 ,  0.5291968 ,  0.94298479,  0.6739865 ,\n",
              "        0.42648845,  0.94167659,  0.42875766,  0.7148308 ,  0.43389899,\n",
              "        0.37603532,  0.3384627 ,  0.6246756 ,  0.84384521,  0.17211052,\n",
              "        0.56260969,  0.57445679,  0.68182922,  0.76944904,  0.47700025,\n",
              "        0.51032853,  0.30074946,  0.71442817,  0.54399328,  0.47043386,\n",
              "        0.48984007,  0.70231228,  0.38127084,  0.60961148,  0.62133872,\n",
              "        0.55995996,  0.55357619,  0.40457642,  0.70710953,  0.33078218,\n",
              "        0.41255579,  0.42372698,  0.51309483,  0.78457469,  0.47746293,\n",
              "        0.59807361,  0.42795867,  0.56796722,  0.09259438,  0.33074636,\n",
              "        0.77296886,  0.83634142,  0.80211204,  0.53154538,  0.55798104,\n",
              "        0.15490046,  0.38866026,  0.92423311,  0.63663684,  0.50215003,\n",
              "        0.83740475,  0.7399794 ,  0.62435218,  0.61370575,  0.49009753,\n",
              "        0.33597187,  0.89293478,  0.80889153,  0.54686721,  0.61918538,\n",
              "        0.29783671,  0.85236411,  0.21426017,  0.54733098,  0.71854786,\n",
              "        0.10199748,  0.12192291,  0.53421087,  0.9312938 ,  0.32696544,\n",
              "        0.37433624,  0.66891226,  0.2254669 ,  0.49620057,  0.46856419,\n",
              "        0.44144403,  0.15507783,  0.53348531,  0.68163423,  0.58950386,\n",
              "        0.49036485,  0.45335494,  0.44536241,  0.63342445,  0.35512278,\n",
              "        0.90250039,  0.49403571,  0.12111011,  0.39315274,  0.41689494,\n",
              "        0.27622544,  0.64040195,  0.60073128,  0.56299337,  0.65883713,\n",
              "        0.19733219,  0.15209561,  0.74802183,  0.84630926,  0.37988319,\n",
              "        0.67263537,  1.0803547 ,  0.43314536,  0.52705477,  0.15633712,\n",
              "        0.41095625,  0.72210389,  0.49549052,  0.6999258 ,  0.80375332,\n",
              "        0.29852313,  0.17977737,  0.58680561,  0.68208023,  1.01228732,\n",
              "        0.64902911,  0.10222979,  0.4335217 ,  0.232479  ,  0.31573974,\n",
              "        0.68338622,  0.5476881 ,  0.37140228,  0.40969673,  0.36811916,\n",
              "        0.10656825,  0.48696062,  0.75012019,  0.45537964,  0.57796207,\n",
              "        0.85541885,  0.67941055,  0.39351399,  0.65804463,  0.67992338,\n",
              "        0.3053949 ,  0.93175993,  0.81437243,  0.44557096,  0.86770801,\n",
              "        0.63005228,  0.76223755,  0.5636939 ,  0.95798363,  0.29805719,\n",
              "        0.51048583,  0.25834271,  0.83538796,  0.48357098,  0.29917062,\n",
              "        0.41325555,  0.39998982,  0.62820419,  0.50045231,  0.34561347,\n",
              "        0.20095729,  0.3946993 ,  0.4584601 ,  0.5154373 ,  0.03944566,\n",
              "        0.61011268,  0.90741976,  0.80739714,  0.44678617,  0.65060207,\n",
              "        0.53879517,  0.69574515,  0.066487  ,  0.32381548,  0.23019542,\n",
              "        0.54588203,  0.69429331,  0.49827783,  0.50656261,  0.68759078,\n",
              "        0.29471209,  0.75766119,  0.50693701,  0.22649821,  0.67507187,\n",
              "        0.26565915,  0.34831743,  0.40650069,  0.27594756,  0.36239081,\n",
              "        0.73549401,  0.18140514,  0.63365124,  0.48528769,  0.3367902 ,\n",
              "        0.4014784 ,  0.48513238,  0.62961922,  0.3553889 ,  0.2817504 ,\n",
              "        0.35123976,  0.29872983,  0.57209789,  0.67472787,  0.62113857,\n",
              "        0.86086968,  0.47347396,  0.54710748,  0.68668074,  0.63999581,\n",
              "        0.49821006,  0.59349906,  0.41470813,  0.38741856,  0.15947351,\n",
              "        0.38348344,  0.49596203,  0.54059385,  0.79328137,  0.79575573,\n",
              "        0.52675577,  0.33828922,  0.59557158,  0.76820549,  0.26901269,\n",
              "        0.26642273,  0.59062469,  0.45391872,  0.18965571,  0.68487543,\n",
              "        0.6681483 ,  0.3745841 ,  0.33957702,  0.15136475,  0.28186386,\n",
              "        0.57326054,  0.92299364,  0.57849323,  0.60710434,  0.16197944,\n",
              "        0.36245035,  0.5159196 ,  0.81639874,  0.77911437,  0.85247053,\n",
              "        0.42069235,  0.6311968 ,  0.63676243,  0.55290631,  0.21182706,\n",
              "        0.36430896,  0.47944012,  0.31478094,  0.55943695,  0.65255941,\n",
              "        0.18172301,  0.52661263,  1.00669874,  0.17123639,  0.87059465,\n",
              "        0.69225182,  0.79717543,  0.26503784,  0.27862654,  0.77487548,\n",
              "        0.85674178,  0.23840464,  0.77590287,  0.46749676,  0.42789411,\n",
              "        0.48588816,  0.1736254 ,  0.7196591 ,  0.80814201,  0.54373954,\n",
              "        0.79926854,  0.33492465,  0.66616679,  0.63883049,  0.64802102,\n",
              "        0.50887465,  0.58188006,  0.7072794 ,  0.10693553,  0.47621455,\n",
              "        0.43069522,  0.48769021,  0.83155922,  0.41757548,  0.4410563 ,\n",
              "        0.608369  ,  0.2071094 ,  0.14376467,  0.49883733,  0.40377068,\n",
              "        0.4044219 ,  0.71260785,  0.41952831,  0.77715164,  0.67527112,\n",
              "        0.1973734 ,  0.51160056,  0.15333482,  0.52593808,  0.6165195 ,\n",
              "        0.36745719,  0.40153047,  0.64986208,  0.89116735,  0.68850636,\n",
              "        0.58642036,  0.67136577,  0.59602664,  0.74357103,  0.3842007 ,\n",
              "        0.2116104 ,  0.45647601,  0.6376955 ,  0.56306162,  0.51403   ,\n",
              "        0.48720671,  0.46444914,  0.55139079,  0.48185793,  0.37616908,\n",
              "        0.41303989,  0.55021939,  0.81345636,  0.36266168,  0.44894555,\n",
              "        0.34918915,  0.72864216,  0.66658464,  0.41734104,  0.14672669,\n",
              "        0.64065208,  0.62962777,  0.33944227,  0.50918481,  0.48112175,\n",
              "        0.43118183,  0.88175178,  0.49682845,  0.96704271,  0.31875815,\n",
              "        0.62664652,  0.60478572,  0.69367464,  0.25055415,  0.73205173,\n",
              "        0.17575619,  0.48742037,  0.58536537,  0.43428736,  0.29404504,\n",
              "        0.74447573,  0.62187324,  0.46725445,  0.54444076,  0.40998094,\n",
              "        0.54840589,  0.63503219,  0.71295469,  0.59104301,  0.58746862,\n",
              "        0.92850446,  0.33714899,  0.51250666,  0.5279762 ,  0.27329675,\n",
              "        0.45666831,  0.09242868,  0.43659627,  0.56251056,  0.24796472,\n",
              "        0.5615204 ,  0.33629175,  0.37250901,  0.49235195,  0.25044651,\n",
              "        0.57092839,  0.68454905,  1.01815193,  0.62897383,  0.64931856,\n",
              "        0.87251051,  0.28988895,  0.8033089 ,  0.45731505,  0.3343228 ,\n",
              "        0.69332982,  0.42509118,  0.49969445,  0.96787551,  0.31595199,\n",
              "        0.43319062,  0.47290034,  0.6578647 ,  0.1531833 ,  0.35730527,\n",
              "        0.76001172,  0.63229346,  0.57938627,  0.58556106,  0.53086012,\n",
              "        0.80185185,  0.44718055,  0.6362696 ,  0.58783215,  0.5824529 ,\n",
              "        0.76582063,  0.93759242,  0.63924936,  0.26934086,  0.31468225,\n",
              "        0.32660385,  0.64781431,  0.64083454,  0.50719143,  0.29364921,\n",
              "        0.63456772,  0.2561667 ,  0.55467725,  0.28393999,  0.54718114,\n",
              "        0.24523184,  0.47037967,  0.5437744 ,  0.62078496,  0.51586022,\n",
              "        0.45005419,  0.43571272,  0.68919615,  0.48123899,  0.38608057,\n",
              "        0.37944749,  0.27480402,  0.44617222,  0.6089558 ,  0.56439579,\n",
              "        0.28636312,  0.37124556,  0.55516869,  0.43278742,  0.73850979,\n",
              "        0.71856655,  0.43442342,  0.4514032 ,  0.45228296,  0.47115807,\n",
              "        0.62995998,  0.51073109,  0.67420815,  0.79345953,  0.42833486,\n",
              "        0.24640499,  0.81908678,  0.4187441 ,  0.64261255,  0.32126648,\n",
              "        0.37630173,  0.62338007,  0.51064176,  0.32278646,  0.72558797,\n",
              "        0.66239541,  0.78174235,  0.70066164,  0.45576965,  0.30188132,\n",
              "        0.59024329,  0.48600599,  0.56556757,  0.48414606,  0.33654263,\n",
              "        0.23994303,  0.39506736,  0.66675306,  0.72064087,  0.6347172 ,\n",
              "        0.15658669,  0.97831558,  0.3134089 ,  0.47973828,  0.49079523,\n",
              "        0.50716863,  0.46312386,  0.26219337,  0.66626062,  0.46517196,\n",
              "        0.48791236,  0.31848362,  0.26326703,  0.41678499,  0.3028092 ,\n",
              "        0.4085429 ,  0.22700861,  0.40762189,  0.62241739,  0.70115749,\n",
              "        0.64987625,  0.57055664,  0.40691273,  0.79727441,  0.50627974,\n",
              "        0.35563617,  0.69638886,  0.95321141,  0.35048002,  0.33664871,\n",
              "        0.80527502,  0.32989253,  0.25616526,  0.55786589,  0.21496905,\n",
              "        0.45912372,  0.19292227,  0.4907946 ,  0.69888988,  0.32180035,\n",
              "        0.71306535,  0.46523263,  0.58179551,  0.34004995,  0.44167308,\n",
              "        0.44459734,  0.35599344,  0.28348203,  0.53887464,  0.53020418,\n",
              "        0.57158032,  0.58657105,  0.32509173,  0.31671122,  0.30751515,\n",
              "        0.70061485,  0.95584094,  0.58157996,  0.2575414 ,  0.315727  ,\n",
              "        0.05438081,  0.35457785,  0.6202705 ,  0.57725261,  0.44239912,\n",
              "        0.18192237,  0.47673082,  0.61608897,  0.87322657,  0.37590173,\n",
              "        0.67122583,  0.59804845,  0.42282156,  0.655719  ,  0.53734512,\n",
              "        0.04637048,  0.63070366,  0.78469269,  0.51444756,  0.62444928,\n",
              "        0.15431008,  0.83280866,  0.10472706,  0.25278369,  0.79407219,\n",
              "        0.25512581,  0.69960317,  0.77420611,  0.41984878,  0.65434434,\n",
              "        0.61593062,  0.2332636 ,  0.24345639,  0.74568471,  0.44407987,\n",
              "        0.40397695,  0.45110505,  0.60064244,  0.26640646,  0.63292942,\n",
              "        0.41808002,  0.4251797 ,  0.92927633,  0.57381902,  0.58278478,\n",
              "        0.35345605,  0.2365413 ,  0.4015127 ,  0.75462943,  0.3512391 ,\n",
              "        0.36991442,  0.62349809,  0.51528997,  0.44176007,  0.58624197,\n",
              "        0.35920963,  0.45911649,  0.46490328,  0.66007824,  0.56533975,\n",
              "        0.49093209,  0.64128312,  0.48859714,  0.45154837,  0.94142296,\n",
              "        0.35704958,  0.59318111,  0.26372646,  0.50938774,  0.91514996,\n",
              "        0.64287989,  0.53584505,  0.47175711,  0.57176485,  0.29733922,\n",
              "        0.45421013,  0.5976961 ,  0.27091913,  0.67210503,  0.23414845,\n",
              "        0.78163748,  0.47018912,  0.5706681 ,  0.65628042,  0.22869743,\n",
              "        0.67200194,  0.73441373,  0.57972687,  0.08197002,  0.65471587,\n",
              "        0.72585507,  0.43189921,  0.4543359 ,  0.43489483,  0.61175422,\n",
              "        0.58783106,  0.66046126,  0.48877769,  0.79288131,  0.10444903,\n",
              "        0.66717143,  0.26105387,  0.75403775,  0.37537507,  0.79877791,\n",
              "        0.48954499,  0.54156265,  0.11389968,  0.56146537,  0.28643583,\n",
              "        0.60361624,  0.55288952,  0.43896472,  0.76960176,  0.39641517,\n",
              "        0.60974237,  0.47971579,  0.47077746,  0.75258108,  0.5105138 ,\n",
              "        0.57052393,  0.62772549,  0.60039899,  0.30004186,  0.56715015,\n",
              "        0.59219267,  0.29094141,  0.39345496,  0.67707964,  0.59860132,\n",
              "        0.64974876,  0.23742342,  0.50040383,  0.60155723,  0.49072211,\n",
              "        0.43803512,  0.42562524,  0.1331979 ,  0.38057713,  0.06949762,\n",
              "        0.26770242,  0.42672047,  0.82316485, -0.1645461 ,  0.42348516,\n",
              "        0.91653458,  0.50814734,  0.30118991,  0.39955356,  0.79336473,\n",
              "        0.18583569,  0.53063605,  0.27174432,  0.7480715 ,  0.25997369,\n",
              "        0.45928538,  0.64721119,  0.24489925,  0.47297473,  0.40221112,\n",
              "        0.50148753,  0.37660537,  0.32178527,  0.31142911, -0.04347077,\n",
              "        0.60053694,  0.61682894,  0.68899348,  0.20860271,  0.25983444,\n",
              "        0.55020912,  0.55898008,  1.08043523,  0.04437784,  0.9173256 ,\n",
              "        0.52110477,  0.35451671,  0.50963534,  0.29412115,  0.20151868,\n",
              "        0.6899814 ,  0.48291463,  0.45236814,  0.38812124,  0.5335182 ,\n",
              "        0.74853945,  0.52787527,  0.41231376,  0.37320963,  0.69496945,\n",
              "        0.25192557,  0.44026091,  0.4692674 ,  0.23708501,  0.46743286,\n",
              "        0.38111305,  0.1097667 ,  0.296751  ,  0.52343766,  0.43368468,\n",
              "        0.438444  ,  0.44591304,  0.61067617,  0.28992313,  0.56068529,\n",
              "        0.17311264,  0.56462907,  0.78132318,  0.42586998,  0.65505216,\n",
              "        0.30501955,  0.21949084,  0.63860396,  0.28193861,  0.27120814,\n",
              "        0.56972494,  0.7522219 ,  0.13405499,  0.48087862,  0.57210062,\n",
              "        0.44947915,  0.21992691,  0.38832584,  0.39777863,  0.42641837,\n",
              "        0.59691016,  0.13548084,  0.4705682 ,  0.5091325 ,  0.6458543 ,\n",
              "        0.63232198,  0.46123491,  0.77280012,  0.45094979,  0.4689558 ,\n",
              "        0.77296792,  0.44240219,  0.77607783,  0.3834244 ,  0.72789905,\n",
              "        0.42904188,  0.5080445 ,  0.5658085 ,  0.34356236,  0.73128397,\n",
              "        0.32046062,  0.65412834,  0.58063907,  0.71458381,  0.43798164,\n",
              "        0.21545365,  0.48845939,  0.70262754,  0.39446481,  0.72579531])"
            ]
          },
          "metadata": {},
          "execution_count": 14
        }
      ]
    },
    {
      "cell_type": "code",
      "source": [
        "import statistics\n",
        "statistics.variance(data)"
      ],
      "metadata": {
        "colab": {
          "base_uri": "https://localhost:8080/"
        },
        "id": "zAIkNzpojHZI",
        "outputId": "825cc4c4-ed25-4b9d-8df1-69ad4e78e158"
      },
      "execution_count": null,
      "outputs": [
        {
          "output_type": "execute_result",
          "data": {
            "text/plain": [
              "0.039719807550305776"
            ]
          },
          "metadata": {},
          "execution_count": 16
        }
      ]
    },
    {
      "cell_type": "markdown",
      "source": [
        "4. Implement a program to simulate the rolling of a fair six-sided die and calculate the expected value and\n",
        "variance of the outcomes."
      ],
      "metadata": {
        "id": "2IN-00DOkR4b"
      }
    },
    {
      "cell_type": "code",
      "source": [
        "import pandas as pd\n",
        "import numpy as np\n",
        "import seaborn as sns\n",
        "population= np.random.randint(90, 130, 100)\n",
        "population"
      ],
      "metadata": {
        "colab": {
          "base_uri": "https://localhost:8080/"
        },
        "id": "G85sryrBkTjd",
        "outputId": "1723395e-3157-49d7-c509-1241284018c1"
      },
      "execution_count": null,
      "outputs": [
        {
          "output_type": "execute_result",
          "data": {
            "text/plain": [
              "array([112, 117, 121, 101, 103, 123,  90, 116, 127, 102, 103, 107, 106,\n",
              "       106,  99, 128, 119, 125, 125, 106,  97, 126,  93, 113, 101,  90,\n",
              "        92, 109, 100,  94,  98, 118, 107, 126,  92, 120, 102, 113, 101,\n",
              "       106, 108, 106, 106, 107,  92, 129, 108,  92, 104, 122,  94, 117,\n",
              "       105,  98, 120, 105, 116, 101,  95, 114,  96, 109, 102, 129, 109,\n",
              "        98, 117, 116, 116, 105, 104,  91, 100, 122, 106, 113,  93, 126,\n",
              "       105, 125, 117,  98,  94,  91,  95, 102, 126, 124, 115,  99, 115,\n",
              "       114, 114,  94, 125, 119, 118, 104, 101, 117])"
            ]
          },
          "metadata": {},
          "execution_count": 17
        }
      ]
    },
    {
      "cell_type": "code",
      "source": [
        "sample1 = np.random.choice(population, 20)\n",
        "sample2 = np.random.choice(population, 20)\n",
        "sample3 = np.random.choice(population, 20)\n",
        "sample4 = np.random.choice(population, 20)\n",
        "sample5 = np.random.choice(population, 20)\n",
        "sample6 = np.random.choice(population, 20)\n",
        "variance_of_samples = []\n",
        "all_sample = [sample1, sample2, sample3, sample4]\n",
        "\n",
        "for sample in all_sample:\n",
        "    variance_of_samples.append(statistics.variance(sample))\n",
        "variance_of_samples\n"
      ],
      "metadata": {
        "colab": {
          "base_uri": "https://localhost:8080/"
        },
        "id": "f7-27JjGlfax",
        "outputId": "3c6ea5bc-d38d-4c31-bf70-35b2a9afe40e"
      },
      "execution_count": null,
      "outputs": [
        {
          "output_type": "execute_result",
          "data": {
            "text/plain": [
              "[79, 117, 138, 86]"
            ]
          },
          "metadata": {},
          "execution_count": 20
        }
      ]
    },
    {
      "cell_type": "markdown",
      "source": [
        "5.Create a Python function to generate random samples from a given probability distribution (e.g.,\n",
        "binomial, Poisson) and calculate their mean and variance."
      ],
      "metadata": {
        "id": "wwK-doC7mxXr"
      }
    },
    {
      "cell_type": "code",
      "source": [
        "population= np.random.randint(10, 30, 100)\n",
        "population"
      ],
      "metadata": {
        "colab": {
          "base_uri": "https://localhost:8080/"
        },
        "id": "pihSPZFxm80E",
        "outputId": "8548e00a-29f2-42ad-814b-190615f27891"
      },
      "execution_count": null,
      "outputs": [
        {
          "output_type": "execute_result",
          "data": {
            "text/plain": [
              "array([14, 25, 14, 16, 24, 21, 24, 20, 16, 13, 11, 29, 28, 20, 19, 26, 12,\n",
              "       26, 29, 13, 17, 14, 29, 28, 24, 10, 26, 19, 10, 23, 17, 22, 10, 17,\n",
              "       12, 18, 21, 22, 12, 14, 15, 27, 24, 17, 11, 25, 22, 26, 12, 10, 10,\n",
              "       23, 28, 18, 11, 22, 24, 14, 12, 24, 25, 17, 27, 18, 16, 10, 14, 11,\n",
              "       22, 11, 17, 25, 13, 29, 18, 12, 24, 25, 26, 29, 12, 26, 22, 23, 18,\n",
              "       26, 27, 13, 21, 12, 21, 18, 17, 13, 17, 23, 21, 18, 17, 10])"
            ]
          },
          "metadata": {},
          "execution_count": 22
        }
      ]
    },
    {
      "cell_type": "code",
      "source": [
        "np.mean(population)\n"
      ],
      "metadata": {
        "colab": {
          "base_uri": "https://localhost:8080/"
        },
        "id": "H50YLiWknVcv",
        "outputId": "0aedc092-9ef9-4ece-ae84-7868209b4f3a"
      },
      "execution_count": null,
      "outputs": [
        {
          "output_type": "execute_result",
          "data": {
            "text/plain": [
              "19.04"
            ]
          },
          "metadata": {},
          "execution_count": 23
        }
      ]
    },
    {
      "cell_type": "code",
      "source": [
        "statistics.variance(population)"
      ],
      "metadata": {
        "colab": {
          "base_uri": "https://localhost:8080/"
        },
        "id": "5S469F8mnbim",
        "outputId": "73bd748a-e053-4073-d8ab-7aa3cb35304f"
      },
      "execution_count": null,
      "outputs": [
        {
          "output_type": "execute_result",
          "data": {
            "text/plain": [
              "35"
            ]
          },
          "metadata": {},
          "execution_count": 24
        }
      ]
    },
    {
      "cell_type": "markdown",
      "source": [
        "6. Write a Python script to generate random numbers from a Gaussian (normal) distribution and compute\n",
        "the mean, variance, and standard deviation o6 the samples."
      ],
      "metadata": {
        "id": "23wUK2nxo5eT"
      }
    },
    {
      "cell_type": "code",
      "source": [
        "population= np.random.randint(90, 130, 100)\n",
        "print(np.mean(population))\n",
        "print(statistics.variance(population))\n",
        "print(np.std(population))"
      ],
      "metadata": {
        "colab": {
          "base_uri": "https://localhost:8080/"
        },
        "id": "QtSkB-CKo72b",
        "outputId": "b05991df-ec2a-42fb-b9de-7666ce9f9166"
      },
      "execution_count": null,
      "outputs": [
        {
          "output_type": "stream",
          "name": "stdout",
          "text": [
            "108.83\n",
            "123\n",
            "11.043599956535912\n"
          ]
        }
      ]
    },
    {
      "cell_type": "markdown",
      "source": [
        "7. Use seaborn library to load tips dataset. Find the following from the dataset for the columns total_bill\n",
        "and tip`:"
      ],
      "metadata": {
        "id": "-jfj2ohdpl0T"
      }
    },
    {
      "cell_type": "code",
      "source": [
        "df = sns.load_dataset(\"tips\")\n",
        "df"
      ],
      "metadata": {
        "colab": {
          "base_uri": "https://localhost:8080/",
          "height": 423
        },
        "id": "deg8pc6BqA8H",
        "outputId": "ac4717a8-6f66-45ee-a8cc-4009ed0b0e15"
      },
      "execution_count": null,
      "outputs": [
        {
          "output_type": "execute_result",
          "data": {
            "text/plain": [
              "     total_bill   tip     sex smoker   day    time  size\n",
              "0         16.99  1.01  Female     No   Sun  Dinner     2\n",
              "1         10.34  1.66    Male     No   Sun  Dinner     3\n",
              "2         21.01  3.50    Male     No   Sun  Dinner     3\n",
              "3         23.68  3.31    Male     No   Sun  Dinner     2\n",
              "4         24.59  3.61  Female     No   Sun  Dinner     4\n",
              "..          ...   ...     ...    ...   ...     ...   ...\n",
              "239       29.03  5.92    Male     No   Sat  Dinner     3\n",
              "240       27.18  2.00  Female    Yes   Sat  Dinner     2\n",
              "241       22.67  2.00    Male    Yes   Sat  Dinner     2\n",
              "242       17.82  1.75    Male     No   Sat  Dinner     2\n",
              "243       18.78  3.00  Female     No  Thur  Dinner     2\n",
              "\n",
              "[244 rows x 7 columns]"
            ],
            "text/html": [
              "\n",
              "  <div id=\"df-6af7f389-824c-4786-bfa5-fb9774439d98\" class=\"colab-df-container\">\n",
              "    <div>\n",
              "<style scoped>\n",
              "    .dataframe tbody tr th:only-of-type {\n",
              "        vertical-align: middle;\n",
              "    }\n",
              "\n",
              "    .dataframe tbody tr th {\n",
              "        vertical-align: top;\n",
              "    }\n",
              "\n",
              "    .dataframe thead th {\n",
              "        text-align: right;\n",
              "    }\n",
              "</style>\n",
              "<table border=\"1\" class=\"dataframe\">\n",
              "  <thead>\n",
              "    <tr style=\"text-align: right;\">\n",
              "      <th></th>\n",
              "      <th>total_bill</th>\n",
              "      <th>tip</th>\n",
              "      <th>sex</th>\n",
              "      <th>smoker</th>\n",
              "      <th>day</th>\n",
              "      <th>time</th>\n",
              "      <th>size</th>\n",
              "    </tr>\n",
              "  </thead>\n",
              "  <tbody>\n",
              "    <tr>\n",
              "      <th>0</th>\n",
              "      <td>16.99</td>\n",
              "      <td>1.01</td>\n",
              "      <td>Female</td>\n",
              "      <td>No</td>\n",
              "      <td>Sun</td>\n",
              "      <td>Dinner</td>\n",
              "      <td>2</td>\n",
              "    </tr>\n",
              "    <tr>\n",
              "      <th>1</th>\n",
              "      <td>10.34</td>\n",
              "      <td>1.66</td>\n",
              "      <td>Male</td>\n",
              "      <td>No</td>\n",
              "      <td>Sun</td>\n",
              "      <td>Dinner</td>\n",
              "      <td>3</td>\n",
              "    </tr>\n",
              "    <tr>\n",
              "      <th>2</th>\n",
              "      <td>21.01</td>\n",
              "      <td>3.50</td>\n",
              "      <td>Male</td>\n",
              "      <td>No</td>\n",
              "      <td>Sun</td>\n",
              "      <td>Dinner</td>\n",
              "      <td>3</td>\n",
              "    </tr>\n",
              "    <tr>\n",
              "      <th>3</th>\n",
              "      <td>23.68</td>\n",
              "      <td>3.31</td>\n",
              "      <td>Male</td>\n",
              "      <td>No</td>\n",
              "      <td>Sun</td>\n",
              "      <td>Dinner</td>\n",
              "      <td>2</td>\n",
              "    </tr>\n",
              "    <tr>\n",
              "      <th>4</th>\n",
              "      <td>24.59</td>\n",
              "      <td>3.61</td>\n",
              "      <td>Female</td>\n",
              "      <td>No</td>\n",
              "      <td>Sun</td>\n",
              "      <td>Dinner</td>\n",
              "      <td>4</td>\n",
              "    </tr>\n",
              "    <tr>\n",
              "      <th>...</th>\n",
              "      <td>...</td>\n",
              "      <td>...</td>\n",
              "      <td>...</td>\n",
              "      <td>...</td>\n",
              "      <td>...</td>\n",
              "      <td>...</td>\n",
              "      <td>...</td>\n",
              "    </tr>\n",
              "    <tr>\n",
              "      <th>239</th>\n",
              "      <td>29.03</td>\n",
              "      <td>5.92</td>\n",
              "      <td>Male</td>\n",
              "      <td>No</td>\n",
              "      <td>Sat</td>\n",
              "      <td>Dinner</td>\n",
              "      <td>3</td>\n",
              "    </tr>\n",
              "    <tr>\n",
              "      <th>240</th>\n",
              "      <td>27.18</td>\n",
              "      <td>2.00</td>\n",
              "      <td>Female</td>\n",
              "      <td>Yes</td>\n",
              "      <td>Sat</td>\n",
              "      <td>Dinner</td>\n",
              "      <td>2</td>\n",
              "    </tr>\n",
              "    <tr>\n",
              "      <th>241</th>\n",
              "      <td>22.67</td>\n",
              "      <td>2.00</td>\n",
              "      <td>Male</td>\n",
              "      <td>Yes</td>\n",
              "      <td>Sat</td>\n",
              "      <td>Dinner</td>\n",
              "      <td>2</td>\n",
              "    </tr>\n",
              "    <tr>\n",
              "      <th>242</th>\n",
              "      <td>17.82</td>\n",
              "      <td>1.75</td>\n",
              "      <td>Male</td>\n",
              "      <td>No</td>\n",
              "      <td>Sat</td>\n",
              "      <td>Dinner</td>\n",
              "      <td>2</td>\n",
              "    </tr>\n",
              "    <tr>\n",
              "      <th>243</th>\n",
              "      <td>18.78</td>\n",
              "      <td>3.00</td>\n",
              "      <td>Female</td>\n",
              "      <td>No</td>\n",
              "      <td>Thur</td>\n",
              "      <td>Dinner</td>\n",
              "      <td>2</td>\n",
              "    </tr>\n",
              "  </tbody>\n",
              "</table>\n",
              "<p>244 rows × 7 columns</p>\n",
              "</div>\n",
              "    <div class=\"colab-df-buttons\">\n",
              "\n",
              "  <div class=\"colab-df-container\">\n",
              "    <button class=\"colab-df-convert\" onclick=\"convertToInteractive('df-6af7f389-824c-4786-bfa5-fb9774439d98')\"\n",
              "            title=\"Convert this dataframe to an interactive table.\"\n",
              "            style=\"display:none;\">\n",
              "\n",
              "  <svg xmlns=\"http://www.w3.org/2000/svg\" height=\"24px\" viewBox=\"0 -960 960 960\">\n",
              "    <path d=\"M120-120v-720h720v720H120Zm60-500h600v-160H180v160Zm220 220h160v-160H400v160Zm0 220h160v-160H400v160ZM180-400h160v-160H180v160Zm440 0h160v-160H620v160ZM180-180h160v-160H180v160Zm440 0h160v-160H620v160Z\"/>\n",
              "  </svg>\n",
              "    </button>\n",
              "\n",
              "  <style>\n",
              "    .colab-df-container {\n",
              "      display:flex;\n",
              "      gap: 12px;\n",
              "    }\n",
              "\n",
              "    .colab-df-convert {\n",
              "      background-color: #E8F0FE;\n",
              "      border: none;\n",
              "      border-radius: 50%;\n",
              "      cursor: pointer;\n",
              "      display: none;\n",
              "      fill: #1967D2;\n",
              "      height: 32px;\n",
              "      padding: 0 0 0 0;\n",
              "      width: 32px;\n",
              "    }\n",
              "\n",
              "    .colab-df-convert:hover {\n",
              "      background-color: #E2EBFA;\n",
              "      box-shadow: 0px 1px 2px rgba(60, 64, 67, 0.3), 0px 1px 3px 1px rgba(60, 64, 67, 0.15);\n",
              "      fill: #174EA6;\n",
              "    }\n",
              "\n",
              "    .colab-df-buttons div {\n",
              "      margin-bottom: 4px;\n",
              "    }\n",
              "\n",
              "    [theme=dark] .colab-df-convert {\n",
              "      background-color: #3B4455;\n",
              "      fill: #D2E3FC;\n",
              "    }\n",
              "\n",
              "    [theme=dark] .colab-df-convert:hover {\n",
              "      background-color: #434B5C;\n",
              "      box-shadow: 0px 1px 3px 1px rgba(0, 0, 0, 0.15);\n",
              "      filter: drop-shadow(0px 1px 2px rgba(0, 0, 0, 0.3));\n",
              "      fill: #FFFFFF;\n",
              "    }\n",
              "  </style>\n",
              "\n",
              "    <script>\n",
              "      const buttonEl =\n",
              "        document.querySelector('#df-6af7f389-824c-4786-bfa5-fb9774439d98 button.colab-df-convert');\n",
              "      buttonEl.style.display =\n",
              "        google.colab.kernel.accessAllowed ? 'block' : 'none';\n",
              "\n",
              "      async function convertToInteractive(key) {\n",
              "        const element = document.querySelector('#df-6af7f389-824c-4786-bfa5-fb9774439d98');\n",
              "        const dataTable =\n",
              "          await google.colab.kernel.invokeFunction('convertToInteractive',\n",
              "                                                    [key], {});\n",
              "        if (!dataTable) return;\n",
              "\n",
              "        const docLinkHtml = 'Like what you see? Visit the ' +\n",
              "          '<a target=\"_blank\" href=https://colab.research.google.com/notebooks/data_table.ipynb>data table notebook</a>'\n",
              "          + ' to learn more about interactive tables.';\n",
              "        element.innerHTML = '';\n",
              "        dataTable['output_type'] = 'display_data';\n",
              "        await google.colab.output.renderOutput(dataTable, element);\n",
              "        const docLink = document.createElement('div');\n",
              "        docLink.innerHTML = docLinkHtml;\n",
              "        element.appendChild(docLink);\n",
              "      }\n",
              "    </script>\n",
              "  </div>\n",
              "\n",
              "\n",
              "<div id=\"df-aa9a520f-6a21-485c-9009-4e1c8c6de2f8\">\n",
              "  <button class=\"colab-df-quickchart\" onclick=\"quickchart('df-aa9a520f-6a21-485c-9009-4e1c8c6de2f8')\"\n",
              "            title=\"Suggest charts\"\n",
              "            style=\"display:none;\">\n",
              "\n",
              "<svg xmlns=\"http://www.w3.org/2000/svg\" height=\"24px\"viewBox=\"0 0 24 24\"\n",
              "     width=\"24px\">\n",
              "    <g>\n",
              "        <path d=\"M19 3H5c-1.1 0-2 .9-2 2v14c0 1.1.9 2 2 2h14c1.1 0 2-.9 2-2V5c0-1.1-.9-2-2-2zM9 17H7v-7h2v7zm4 0h-2V7h2v10zm4 0h-2v-4h2v4z\"/>\n",
              "    </g>\n",
              "</svg>\n",
              "  </button>\n",
              "\n",
              "<style>\n",
              "  .colab-df-quickchart {\n",
              "      --bg-color: #E8F0FE;\n",
              "      --fill-color: #1967D2;\n",
              "      --hover-bg-color: #E2EBFA;\n",
              "      --hover-fill-color: #174EA6;\n",
              "      --disabled-fill-color: #AAA;\n",
              "      --disabled-bg-color: #DDD;\n",
              "  }\n",
              "\n",
              "  [theme=dark] .colab-df-quickchart {\n",
              "      --bg-color: #3B4455;\n",
              "      --fill-color: #D2E3FC;\n",
              "      --hover-bg-color: #434B5C;\n",
              "      --hover-fill-color: #FFFFFF;\n",
              "      --disabled-bg-color: #3B4455;\n",
              "      --disabled-fill-color: #666;\n",
              "  }\n",
              "\n",
              "  .colab-df-quickchart {\n",
              "    background-color: var(--bg-color);\n",
              "    border: none;\n",
              "    border-radius: 50%;\n",
              "    cursor: pointer;\n",
              "    display: none;\n",
              "    fill: var(--fill-color);\n",
              "    height: 32px;\n",
              "    padding: 0;\n",
              "    width: 32px;\n",
              "  }\n",
              "\n",
              "  .colab-df-quickchart:hover {\n",
              "    background-color: var(--hover-bg-color);\n",
              "    box-shadow: 0 1px 2px rgba(60, 64, 67, 0.3), 0 1px 3px 1px rgba(60, 64, 67, 0.15);\n",
              "    fill: var(--button-hover-fill-color);\n",
              "  }\n",
              "\n",
              "  .colab-df-quickchart-complete:disabled,\n",
              "  .colab-df-quickchart-complete:disabled:hover {\n",
              "    background-color: var(--disabled-bg-color);\n",
              "    fill: var(--disabled-fill-color);\n",
              "    box-shadow: none;\n",
              "  }\n",
              "\n",
              "  .colab-df-spinner {\n",
              "    border: 2px solid var(--fill-color);\n",
              "    border-color: transparent;\n",
              "    border-bottom-color: var(--fill-color);\n",
              "    animation:\n",
              "      spin 1s steps(1) infinite;\n",
              "  }\n",
              "\n",
              "  @keyframes spin {\n",
              "    0% {\n",
              "      border-color: transparent;\n",
              "      border-bottom-color: var(--fill-color);\n",
              "      border-left-color: var(--fill-color);\n",
              "    }\n",
              "    20% {\n",
              "      border-color: transparent;\n",
              "      border-left-color: var(--fill-color);\n",
              "      border-top-color: var(--fill-color);\n",
              "    }\n",
              "    30% {\n",
              "      border-color: transparent;\n",
              "      border-left-color: var(--fill-color);\n",
              "      border-top-color: var(--fill-color);\n",
              "      border-right-color: var(--fill-color);\n",
              "    }\n",
              "    40% {\n",
              "      border-color: transparent;\n",
              "      border-right-color: var(--fill-color);\n",
              "      border-top-color: var(--fill-color);\n",
              "    }\n",
              "    60% {\n",
              "      border-color: transparent;\n",
              "      border-right-color: var(--fill-color);\n",
              "    }\n",
              "    80% {\n",
              "      border-color: transparent;\n",
              "      border-right-color: var(--fill-color);\n",
              "      border-bottom-color: var(--fill-color);\n",
              "    }\n",
              "    90% {\n",
              "      border-color: transparent;\n",
              "      border-bottom-color: var(--fill-color);\n",
              "    }\n",
              "  }\n",
              "</style>\n",
              "\n",
              "  <script>\n",
              "    async function quickchart(key) {\n",
              "      const quickchartButtonEl =\n",
              "        document.querySelector('#' + key + ' button');\n",
              "      quickchartButtonEl.disabled = true;  // To prevent multiple clicks.\n",
              "      quickchartButtonEl.classList.add('colab-df-spinner');\n",
              "      try {\n",
              "        const charts = await google.colab.kernel.invokeFunction(\n",
              "            'suggestCharts', [key], {});\n",
              "      } catch (error) {\n",
              "        console.error('Error during call to suggestCharts:', error);\n",
              "      }\n",
              "      quickchartButtonEl.classList.remove('colab-df-spinner');\n",
              "      quickchartButtonEl.classList.add('colab-df-quickchart-complete');\n",
              "    }\n",
              "    (() => {\n",
              "      let quickchartButtonEl =\n",
              "        document.querySelector('#df-aa9a520f-6a21-485c-9009-4e1c8c6de2f8 button');\n",
              "      quickchartButtonEl.style.display =\n",
              "        google.colab.kernel.accessAllowed ? 'block' : 'none';\n",
              "    })();\n",
              "  </script>\n",
              "</div>\n",
              "\n",
              "  <div id=\"id_09d96ad0-7022-485e-b282-c74dd7be0e12\">\n",
              "    <style>\n",
              "      .colab-df-generate {\n",
              "        background-color: #E8F0FE;\n",
              "        border: none;\n",
              "        border-radius: 50%;\n",
              "        cursor: pointer;\n",
              "        display: none;\n",
              "        fill: #1967D2;\n",
              "        height: 32px;\n",
              "        padding: 0 0 0 0;\n",
              "        width: 32px;\n",
              "      }\n",
              "\n",
              "      .colab-df-generate:hover {\n",
              "        background-color: #E2EBFA;\n",
              "        box-shadow: 0px 1px 2px rgba(60, 64, 67, 0.3), 0px 1px 3px 1px rgba(60, 64, 67, 0.15);\n",
              "        fill: #174EA6;\n",
              "      }\n",
              "\n",
              "      [theme=dark] .colab-df-generate {\n",
              "        background-color: #3B4455;\n",
              "        fill: #D2E3FC;\n",
              "      }\n",
              "\n",
              "      [theme=dark] .colab-df-generate:hover {\n",
              "        background-color: #434B5C;\n",
              "        box-shadow: 0px 1px 3px 1px rgba(0, 0, 0, 0.15);\n",
              "        filter: drop-shadow(0px 1px 2px rgba(0, 0, 0, 0.3));\n",
              "        fill: #FFFFFF;\n",
              "      }\n",
              "    </style>\n",
              "    <button class=\"colab-df-generate\" onclick=\"generateWithVariable('df')\"\n",
              "            title=\"Generate code using this dataframe.\"\n",
              "            style=\"display:none;\">\n",
              "\n",
              "  <svg xmlns=\"http://www.w3.org/2000/svg\" height=\"24px\"viewBox=\"0 0 24 24\"\n",
              "       width=\"24px\">\n",
              "    <path d=\"M7,19H8.4L18.45,9,17,7.55,7,17.6ZM5,21V16.75L18.45,3.32a2,2,0,0,1,2.83,0l1.4,1.43a1.91,1.91,0,0,1,.58,1.4,1.91,1.91,0,0,1-.58,1.4L9.25,21ZM18.45,9,17,7.55Zm-12,3A5.31,5.31,0,0,0,4.9,8.1,5.31,5.31,0,0,0,1,6.5,5.31,5.31,0,0,0,4.9,4.9,5.31,5.31,0,0,0,6.5,1,5.31,5.31,0,0,0,8.1,4.9,5.31,5.31,0,0,0,12,6.5,5.46,5.46,0,0,0,6.5,12Z\"/>\n",
              "  </svg>\n",
              "    </button>\n",
              "    <script>\n",
              "      (() => {\n",
              "      const buttonEl =\n",
              "        document.querySelector('#id_09d96ad0-7022-485e-b282-c74dd7be0e12 button.colab-df-generate');\n",
              "      buttonEl.style.display =\n",
              "        google.colab.kernel.accessAllowed ? 'block' : 'none';\n",
              "\n",
              "      buttonEl.onclick = () => {\n",
              "        google.colab.notebook.generateWithVariable('df');\n",
              "      }\n",
              "      })();\n",
              "    </script>\n",
              "  </div>\n",
              "\n",
              "    </div>\n",
              "  </div>\n"
            ],
            "application/vnd.google.colaboratory.intrinsic+json": {
              "type": "dataframe",
              "variable_name": "df",
              "summary": "{\n  \"name\": \"df\",\n  \"rows\": 244,\n  \"fields\": [\n    {\n      \"column\": \"total_bill\",\n      \"properties\": {\n        \"dtype\": \"number\",\n        \"std\": 8.902411954856856,\n        \"min\": 3.07,\n        \"max\": 50.81,\n        \"num_unique_values\": 229,\n        \"samples\": [\n          22.12,\n          20.23,\n          14.78\n        ],\n        \"semantic_type\": \"\",\n        \"description\": \"\"\n      }\n    },\n    {\n      \"column\": \"tip\",\n      \"properties\": {\n        \"dtype\": \"number\",\n        \"std\": 1.3836381890011822,\n        \"min\": 1.0,\n        \"max\": 10.0,\n        \"num_unique_values\": 123,\n        \"samples\": [\n          3.35,\n          1.5,\n          6.73\n        ],\n        \"semantic_type\": \"\",\n        \"description\": \"\"\n      }\n    },\n    {\n      \"column\": \"sex\",\n      \"properties\": {\n        \"dtype\": \"category\",\n        \"num_unique_values\": 2,\n        \"samples\": [\n          \"Male\",\n          \"Female\"\n        ],\n        \"semantic_type\": \"\",\n        \"description\": \"\"\n      }\n    },\n    {\n      \"column\": \"smoker\",\n      \"properties\": {\n        \"dtype\": \"category\",\n        \"num_unique_values\": 2,\n        \"samples\": [\n          \"Yes\",\n          \"No\"\n        ],\n        \"semantic_type\": \"\",\n        \"description\": \"\"\n      }\n    },\n    {\n      \"column\": \"day\",\n      \"properties\": {\n        \"dtype\": \"category\",\n        \"num_unique_values\": 4,\n        \"samples\": [\n          \"Sat\",\n          \"Fri\"\n        ],\n        \"semantic_type\": \"\",\n        \"description\": \"\"\n      }\n    },\n    {\n      \"column\": \"time\",\n      \"properties\": {\n        \"dtype\": \"category\",\n        \"num_unique_values\": 2,\n        \"samples\": [\n          \"Lunch\",\n          \"Dinner\"\n        ],\n        \"semantic_type\": \"\",\n        \"description\": \"\"\n      }\n    },\n    {\n      \"column\": \"size\",\n      \"properties\": {\n        \"dtype\": \"number\",\n        \"std\": 0,\n        \"min\": 1,\n        \"max\": 6,\n        \"num_unique_values\": 6,\n        \"samples\": [\n          2,\n          3\n        ],\n        \"semantic_type\": \"\",\n        \"description\": \"\"\n      }\n    }\n  ]\n}"
            }
          },
          "metadata": {},
          "execution_count": 34
        }
      ]
    },
    {
      "cell_type": "code",
      "source": [
        "df.corr('tolal_bill','tips')\n"
      ],
      "metadata": {
        "colab": {
          "base_uri": "https://localhost:8080/",
          "height": 287
        },
        "id": "SBljJFQArZvf",
        "outputId": "406510da-e77d-4e59-ce89-06f1807e8131"
      },
      "execution_count": null,
      "outputs": [
        {
          "output_type": "error",
          "ename": "ValueError",
          "evalue": "could not convert string to float: 'No'",
          "traceback": [
            "\u001b[0;31m---------------------------------------------------------------------------\u001b[0m",
            "\u001b[0;31mValueError\u001b[0m                                Traceback (most recent call last)",
            "\u001b[0;32m<ipython-input-41-2c1362ba8a48>\u001b[0m in \u001b[0;36m<cell line: 1>\u001b[0;34m()\u001b[0m\n\u001b[0;32m----> 1\u001b[0;31m \u001b[0mdf\u001b[0m\u001b[0;34m.\u001b[0m\u001b[0mcorr\u001b[0m\u001b[0;34m(\u001b[0m\u001b[0;34m'tolal_bill'\u001b[0m\u001b[0;34m,\u001b[0m\u001b[0;34m'tips'\u001b[0m\u001b[0;34m)\u001b[0m\u001b[0;34m\u001b[0m\u001b[0;34m\u001b[0m\u001b[0m\n\u001b[0m",
            "\u001b[0;32m/usr/local/lib/python3.10/dist-packages/pandas/core/frame.py\u001b[0m in \u001b[0;36mcorr\u001b[0;34m(self, method, min_periods, numeric_only)\u001b[0m\n\u001b[1;32m  10052\u001b[0m         \u001b[0mcols\u001b[0m \u001b[0;34m=\u001b[0m \u001b[0mdata\u001b[0m\u001b[0;34m.\u001b[0m\u001b[0mcolumns\u001b[0m\u001b[0;34m\u001b[0m\u001b[0;34m\u001b[0m\u001b[0m\n\u001b[1;32m  10053\u001b[0m         \u001b[0midx\u001b[0m \u001b[0;34m=\u001b[0m \u001b[0mcols\u001b[0m\u001b[0;34m.\u001b[0m\u001b[0mcopy\u001b[0m\u001b[0;34m(\u001b[0m\u001b[0;34m)\u001b[0m\u001b[0;34m\u001b[0m\u001b[0;34m\u001b[0m\u001b[0m\n\u001b[0;32m> 10054\u001b[0;31m         \u001b[0mmat\u001b[0m \u001b[0;34m=\u001b[0m \u001b[0mdata\u001b[0m\u001b[0;34m.\u001b[0m\u001b[0mto_numpy\u001b[0m\u001b[0;34m(\u001b[0m\u001b[0mdtype\u001b[0m\u001b[0;34m=\u001b[0m\u001b[0mfloat\u001b[0m\u001b[0;34m,\u001b[0m \u001b[0mna_value\u001b[0m\u001b[0;34m=\u001b[0m\u001b[0mnp\u001b[0m\u001b[0;34m.\u001b[0m\u001b[0mnan\u001b[0m\u001b[0;34m,\u001b[0m \u001b[0mcopy\u001b[0m\u001b[0;34m=\u001b[0m\u001b[0;32mFalse\u001b[0m\u001b[0;34m)\u001b[0m\u001b[0;34m\u001b[0m\u001b[0;34m\u001b[0m\u001b[0m\n\u001b[0m\u001b[1;32m  10055\u001b[0m \u001b[0;34m\u001b[0m\u001b[0m\n\u001b[1;32m  10056\u001b[0m         \u001b[0;32mif\u001b[0m \u001b[0mmethod\u001b[0m \u001b[0;34m==\u001b[0m \u001b[0;34m\"pearson\"\u001b[0m\u001b[0;34m:\u001b[0m\u001b[0;34m\u001b[0m\u001b[0;34m\u001b[0m\u001b[0m\n",
            "\u001b[0;32m/usr/local/lib/python3.10/dist-packages/pandas/core/frame.py\u001b[0m in \u001b[0;36mto_numpy\u001b[0;34m(self, dtype, copy, na_value)\u001b[0m\n\u001b[1;32m   1836\u001b[0m         \u001b[0;32mif\u001b[0m \u001b[0mdtype\u001b[0m \u001b[0;32mis\u001b[0m \u001b[0;32mnot\u001b[0m \u001b[0;32mNone\u001b[0m\u001b[0;34m:\u001b[0m\u001b[0;34m\u001b[0m\u001b[0;34m\u001b[0m\u001b[0m\n\u001b[1;32m   1837\u001b[0m             \u001b[0mdtype\u001b[0m \u001b[0;34m=\u001b[0m \u001b[0mnp\u001b[0m\u001b[0;34m.\u001b[0m\u001b[0mdtype\u001b[0m\u001b[0;34m(\u001b[0m\u001b[0mdtype\u001b[0m\u001b[0;34m)\u001b[0m\u001b[0;34m\u001b[0m\u001b[0;34m\u001b[0m\u001b[0m\n\u001b[0;32m-> 1838\u001b[0;31m         \u001b[0mresult\u001b[0m \u001b[0;34m=\u001b[0m \u001b[0mself\u001b[0m\u001b[0;34m.\u001b[0m\u001b[0m_mgr\u001b[0m\u001b[0;34m.\u001b[0m\u001b[0mas_array\u001b[0m\u001b[0;34m(\u001b[0m\u001b[0mdtype\u001b[0m\u001b[0;34m=\u001b[0m\u001b[0mdtype\u001b[0m\u001b[0;34m,\u001b[0m \u001b[0mcopy\u001b[0m\u001b[0;34m=\u001b[0m\u001b[0mcopy\u001b[0m\u001b[0;34m,\u001b[0m \u001b[0mna_value\u001b[0m\u001b[0;34m=\u001b[0m\u001b[0mna_value\u001b[0m\u001b[0;34m)\u001b[0m\u001b[0;34m\u001b[0m\u001b[0;34m\u001b[0m\u001b[0m\n\u001b[0m\u001b[1;32m   1839\u001b[0m         \u001b[0;32mif\u001b[0m \u001b[0mresult\u001b[0m\u001b[0;34m.\u001b[0m\u001b[0mdtype\u001b[0m \u001b[0;32mis\u001b[0m \u001b[0;32mnot\u001b[0m \u001b[0mdtype\u001b[0m\u001b[0;34m:\u001b[0m\u001b[0;34m\u001b[0m\u001b[0;34m\u001b[0m\u001b[0m\n\u001b[1;32m   1840\u001b[0m             \u001b[0mresult\u001b[0m \u001b[0;34m=\u001b[0m \u001b[0mnp\u001b[0m\u001b[0;34m.\u001b[0m\u001b[0marray\u001b[0m\u001b[0;34m(\u001b[0m\u001b[0mresult\u001b[0m\u001b[0;34m,\u001b[0m \u001b[0mdtype\u001b[0m\u001b[0;34m=\u001b[0m\u001b[0mdtype\u001b[0m\u001b[0;34m,\u001b[0m \u001b[0mcopy\u001b[0m\u001b[0;34m=\u001b[0m\u001b[0;32mFalse\u001b[0m\u001b[0;34m)\u001b[0m\u001b[0;34m\u001b[0m\u001b[0;34m\u001b[0m\u001b[0m\n",
            "\u001b[0;32m/usr/local/lib/python3.10/dist-packages/pandas/core/internals/managers.py\u001b[0m in \u001b[0;36mas_array\u001b[0;34m(self, dtype, copy, na_value)\u001b[0m\n\u001b[1;32m   1730\u001b[0m                 \u001b[0marr\u001b[0m\u001b[0;34m.\u001b[0m\u001b[0mflags\u001b[0m\u001b[0;34m.\u001b[0m\u001b[0mwriteable\u001b[0m \u001b[0;34m=\u001b[0m \u001b[0;32mFalse\u001b[0m\u001b[0;34m\u001b[0m\u001b[0;34m\u001b[0m\u001b[0m\n\u001b[1;32m   1731\u001b[0m         \u001b[0;32melse\u001b[0m\u001b[0;34m:\u001b[0m\u001b[0;34m\u001b[0m\u001b[0;34m\u001b[0m\u001b[0m\n\u001b[0;32m-> 1732\u001b[0;31m             \u001b[0marr\u001b[0m \u001b[0;34m=\u001b[0m \u001b[0mself\u001b[0m\u001b[0;34m.\u001b[0m\u001b[0m_interleave\u001b[0m\u001b[0;34m(\u001b[0m\u001b[0mdtype\u001b[0m\u001b[0;34m=\u001b[0m\u001b[0mdtype\u001b[0m\u001b[0;34m,\u001b[0m \u001b[0mna_value\u001b[0m\u001b[0;34m=\u001b[0m\u001b[0mna_value\u001b[0m\u001b[0;34m)\u001b[0m\u001b[0;34m\u001b[0m\u001b[0;34m\u001b[0m\u001b[0m\n\u001b[0m\u001b[1;32m   1733\u001b[0m             \u001b[0;31m# The underlying data was copied within _interleave, so no need\u001b[0m\u001b[0;34m\u001b[0m\u001b[0;34m\u001b[0m\u001b[0m\n\u001b[1;32m   1734\u001b[0m             \u001b[0;31m# to further copy if copy=True or setting na_value\u001b[0m\u001b[0;34m\u001b[0m\u001b[0;34m\u001b[0m\u001b[0m\n",
            "\u001b[0;32m/usr/local/lib/python3.10/dist-packages/pandas/core/internals/managers.py\u001b[0m in \u001b[0;36m_interleave\u001b[0;34m(self, dtype, na_value)\u001b[0m\n\u001b[1;32m   1786\u001b[0m                 \u001b[0;31m# error: Item \"ndarray\" of \"Union[ndarray, ExtensionArray]\" has no\u001b[0m\u001b[0;34m\u001b[0m\u001b[0;34m\u001b[0m\u001b[0m\n\u001b[1;32m   1787\u001b[0m                 \u001b[0;31m# attribute \"to_numpy\"\u001b[0m\u001b[0;34m\u001b[0m\u001b[0;34m\u001b[0m\u001b[0m\n\u001b[0;32m-> 1788\u001b[0;31m                 arr = blk.values.to_numpy(  # type: ignore[union-attr]\n\u001b[0m\u001b[1;32m   1789\u001b[0m                     \u001b[0mdtype\u001b[0m\u001b[0;34m=\u001b[0m\u001b[0mdtype\u001b[0m\u001b[0;34m,\u001b[0m\u001b[0;34m\u001b[0m\u001b[0;34m\u001b[0m\u001b[0m\n\u001b[1;32m   1790\u001b[0m                     \u001b[0mna_value\u001b[0m\u001b[0;34m=\u001b[0m\u001b[0mna_value\u001b[0m\u001b[0;34m,\u001b[0m\u001b[0;34m\u001b[0m\u001b[0;34m\u001b[0m\u001b[0m\n",
            "\u001b[0;32m/usr/local/lib/python3.10/dist-packages/pandas/core/arrays/base.py\u001b[0m in \u001b[0;36mto_numpy\u001b[0;34m(self, dtype, copy, na_value)\u001b[0m\n\u001b[1;32m    483\u001b[0m         \u001b[0mnumpy\u001b[0m\u001b[0;34m.\u001b[0m\u001b[0mndarray\u001b[0m\u001b[0;34m\u001b[0m\u001b[0;34m\u001b[0m\u001b[0m\n\u001b[1;32m    484\u001b[0m         \"\"\"\n\u001b[0;32m--> 485\u001b[0;31m         \u001b[0mresult\u001b[0m \u001b[0;34m=\u001b[0m \u001b[0mnp\u001b[0m\u001b[0;34m.\u001b[0m\u001b[0masarray\u001b[0m\u001b[0;34m(\u001b[0m\u001b[0mself\u001b[0m\u001b[0;34m,\u001b[0m \u001b[0mdtype\u001b[0m\u001b[0;34m=\u001b[0m\u001b[0mdtype\u001b[0m\u001b[0;34m)\u001b[0m\u001b[0;34m\u001b[0m\u001b[0;34m\u001b[0m\u001b[0m\n\u001b[0m\u001b[1;32m    486\u001b[0m         \u001b[0;32mif\u001b[0m \u001b[0mcopy\u001b[0m \u001b[0;32mor\u001b[0m \u001b[0mna_value\u001b[0m \u001b[0;32mis\u001b[0m \u001b[0;32mnot\u001b[0m \u001b[0mlib\u001b[0m\u001b[0;34m.\u001b[0m\u001b[0mno_default\u001b[0m\u001b[0;34m:\u001b[0m\u001b[0;34m\u001b[0m\u001b[0;34m\u001b[0m\u001b[0m\n\u001b[1;32m    487\u001b[0m             \u001b[0mresult\u001b[0m \u001b[0;34m=\u001b[0m \u001b[0mresult\u001b[0m\u001b[0;34m.\u001b[0m\u001b[0mcopy\u001b[0m\u001b[0;34m(\u001b[0m\u001b[0;34m)\u001b[0m\u001b[0;34m\u001b[0m\u001b[0;34m\u001b[0m\u001b[0m\n",
            "\u001b[0;32m/usr/local/lib/python3.10/dist-packages/pandas/core/arrays/_mixins.py\u001b[0m in \u001b[0;36mmethod\u001b[0;34m(self, *args, **kwargs)\u001b[0m\n\u001b[1;32m     84\u001b[0m     \u001b[0;32mdef\u001b[0m \u001b[0mmethod\u001b[0m\u001b[0;34m(\u001b[0m\u001b[0mself\u001b[0m\u001b[0;34m,\u001b[0m \u001b[0;34m*\u001b[0m\u001b[0margs\u001b[0m\u001b[0;34m,\u001b[0m \u001b[0;34m**\u001b[0m\u001b[0mkwargs\u001b[0m\u001b[0;34m)\u001b[0m\u001b[0;34m:\u001b[0m\u001b[0;34m\u001b[0m\u001b[0;34m\u001b[0m\u001b[0m\n\u001b[1;32m     85\u001b[0m         \u001b[0;32mif\u001b[0m \u001b[0mself\u001b[0m\u001b[0;34m.\u001b[0m\u001b[0mndim\u001b[0m \u001b[0;34m==\u001b[0m \u001b[0;36m1\u001b[0m\u001b[0;34m:\u001b[0m\u001b[0;34m\u001b[0m\u001b[0;34m\u001b[0m\u001b[0m\n\u001b[0;32m---> 86\u001b[0;31m             \u001b[0;32mreturn\u001b[0m \u001b[0mmeth\u001b[0m\u001b[0;34m(\u001b[0m\u001b[0mself\u001b[0m\u001b[0;34m,\u001b[0m \u001b[0;34m*\u001b[0m\u001b[0margs\u001b[0m\u001b[0;34m,\u001b[0m \u001b[0;34m**\u001b[0m\u001b[0mkwargs\u001b[0m\u001b[0;34m)\u001b[0m\u001b[0;34m\u001b[0m\u001b[0;34m\u001b[0m\u001b[0m\n\u001b[0m\u001b[1;32m     87\u001b[0m \u001b[0;34m\u001b[0m\u001b[0m\n\u001b[1;32m     88\u001b[0m         \u001b[0mflags\u001b[0m \u001b[0;34m=\u001b[0m \u001b[0mself\u001b[0m\u001b[0;34m.\u001b[0m\u001b[0m_ndarray\u001b[0m\u001b[0;34m.\u001b[0m\u001b[0mflags\u001b[0m\u001b[0;34m\u001b[0m\u001b[0;34m\u001b[0m\u001b[0m\n",
            "\u001b[0;32m/usr/local/lib/python3.10/dist-packages/pandas/core/arrays/categorical.py\u001b[0m in \u001b[0;36m__array__\u001b[0;34m(self, dtype)\u001b[0m\n\u001b[1;32m   1342\u001b[0m         \u001b[0mret\u001b[0m \u001b[0;34m=\u001b[0m \u001b[0mtake_nd\u001b[0m\u001b[0;34m(\u001b[0m\u001b[0mself\u001b[0m\u001b[0;34m.\u001b[0m\u001b[0mcategories\u001b[0m\u001b[0;34m.\u001b[0m\u001b[0m_values\u001b[0m\u001b[0;34m,\u001b[0m \u001b[0mself\u001b[0m\u001b[0;34m.\u001b[0m\u001b[0m_codes\u001b[0m\u001b[0;34m)\u001b[0m\u001b[0;34m\u001b[0m\u001b[0;34m\u001b[0m\u001b[0m\n\u001b[1;32m   1343\u001b[0m         \u001b[0;32mif\u001b[0m \u001b[0mdtype\u001b[0m \u001b[0;32mand\u001b[0m \u001b[0;32mnot\u001b[0m \u001b[0mis_dtype_equal\u001b[0m\u001b[0;34m(\u001b[0m\u001b[0mdtype\u001b[0m\u001b[0;34m,\u001b[0m \u001b[0mself\u001b[0m\u001b[0;34m.\u001b[0m\u001b[0mcategories\u001b[0m\u001b[0;34m.\u001b[0m\u001b[0mdtype\u001b[0m\u001b[0;34m)\u001b[0m\u001b[0;34m:\u001b[0m\u001b[0;34m\u001b[0m\u001b[0;34m\u001b[0m\u001b[0m\n\u001b[0;32m-> 1344\u001b[0;31m             \u001b[0;32mreturn\u001b[0m \u001b[0mnp\u001b[0m\u001b[0;34m.\u001b[0m\u001b[0masarray\u001b[0m\u001b[0;34m(\u001b[0m\u001b[0mret\u001b[0m\u001b[0;34m,\u001b[0m \u001b[0mdtype\u001b[0m\u001b[0;34m)\u001b[0m\u001b[0;34m\u001b[0m\u001b[0;34m\u001b[0m\u001b[0m\n\u001b[0m\u001b[1;32m   1345\u001b[0m         \u001b[0;31m# When we're a Categorical[ExtensionArray], like Interval,\u001b[0m\u001b[0;34m\u001b[0m\u001b[0;34m\u001b[0m\u001b[0m\n\u001b[1;32m   1346\u001b[0m         \u001b[0;31m# we need to ensure __array__ gets all the way to an\u001b[0m\u001b[0;34m\u001b[0m\u001b[0;34m\u001b[0m\u001b[0m\n",
            "\u001b[0;31mValueError\u001b[0m: could not convert string to float: 'No'"
          ]
        }
      ]
    },
    {
      "cell_type": "code",
      "source": [
        "sns.pairplot(df)"
      ],
      "metadata": {
        "colab": {
          "base_uri": "https://localhost:8080/",
          "height": 775
        },
        "id": "UkoKTDnguE2n",
        "outputId": "fe7788c1-bec9-49d3-d8a5-c76e0732b3f7"
      },
      "execution_count": null,
      "outputs": [
        {
          "output_type": "execute_result",
          "data": {
            "text/plain": [
              "<seaborn.axisgrid.PairGrid at 0x79f03ffb2230>"
            ]
          },
          "metadata": {},
          "execution_count": 36
        },
        {
          "output_type": "display_data",
          "data": {
            "text/plain": [
              "<Figure size 750x750 with 12 Axes>"
            ],
            "image/png": "[encoded data removed]"
          },
          "metadata": {}
        }
      ]
    },
    {
      "cell_type": "code",
      "source": [
        "sns.scatterplot(df , x=\"total_bill\", y=\"tip\")"
      ],
      "metadata": {
        "colab": {
          "base_uri": "https://localhost:8080/",
          "height": 467
        },
        "id": "T6MX5V05ugl0",
        "outputId": "122988ca-6cdb-4c20-b709-7297b5fa7480"
      },
      "execution_count": null,
      "outputs": [
        {
          "output_type": "execute_result",
          "data": {
            "text/plain": [
              "<Axes: xlabel='total_bill', ylabel='tip'>"
            ]
          },
          "metadata": {},
          "execution_count": 40
        },
        {
          "output_type": "display_data",
          "data": {
            "text/plain": [
              "<Figure size 640x480 with 1 Axes>"
            ],
            "image/png": "[encoded data removed]"
          },
          "metadata": {}
        }
      ]
    },
    {
      "cell_type": "markdown",
      "source": [
        "8 Write a Python function to calculate the probability density function (PDF) of a continuous random\n",
        "variable for a given normal distribution.\n"
      ],
      "metadata": {
        "id": "pqeb3ybCvT3O"
      }
    },
    {
      "cell_type": "code",
      "source": [
        "population = np.random.binomial(10, 0.5, 100000)\n",
        "sns.distplot(population)"
      ],
      "metadata": {
        "colab": {
          "base_uri": "https://localhost:8080/",
          "height": 638
        },
        "id": "nqlV_-ksvqzr",
        "outputId": "ee73a270-c742-4162-b70f-ada5b70e6b4e"
      },
      "execution_count": null,
      "outputs": [
        {
          "output_type": "stream",
          "name": "stderr",
          "text": [
            "<ipython-input-42-88c3b73c802d>:2: UserWarning: \n",
            "\n",
            "`distplot` is a deprecated function and will be removed in seaborn v0.14.0.\n",
            "\n",
            "Please adapt your code to use either `displot` (a figure-level function with\n",
            "similar flexibility) or `histplot` (an axes-level function for histograms).\n",
            "\n",
            "For a guide to updating your code to use the new functions, please see\n",
            "https://gist.github.com/mwaskom/de44147ed2974457ad6372750bbe5751\n",
            "\n",
            "  sns.distplot(population)\n"
          ]
        },
        {
          "output_type": "execute_result",
          "data": {
            "text/plain": [
              "<Axes: ylabel='Density'>"
            ]
          },
          "metadata": {},
          "execution_count": 42
        },
        {
          "output_type": "display_data",
          "data": {
            "text/plain": [
              "<Figure size 640x480 with 1 Axes>"
            ],
            "image/png": "[encoded data removed]"
          },
          "metadata": {}
        }
      ]
    },
    {
      "cell_type": "markdown",
      "source": [
        "9. Create a program to calculate the cumulative distribution function (CDF) of exponential distribution."
      ],
      "metadata": {
        "id": "Kod72zEDxvdu"
      }
    },
    {
      "cell_type": "code",
      "source": [
        "population = np.random.binomial(10, 0.5, 100000)\n",
        "sns.histplot(population)"
      ],
      "metadata": {
        "colab": {
          "base_uri": "https://localhost:8080/",
          "height": 447
        },
        "id": "VKc8wuumx96x",
        "outputId": "ba0f935a-6184-4f16-d3a2-011f5d7059f6"
      },
      "execution_count": null,
      "outputs": [
        {
          "output_type": "execute_result",
          "data": {
            "text/plain": [
              "<Axes: ylabel='Count'>"
            ]
          },
          "metadata": {},
          "execution_count": 43
        },
        {
          "output_type": "display_data",
          "data": {
            "text/plain": [
              "<Figure size 640x480 with 1 Axes>"
            ],
            "image/png": "[encoded data removed]"
          },
          "metadata": {}
        }
      ]
    },
    {
      "cell_type": "markdown",
      "source": [
        "10. Write a Python function to calculate the probability mass function (PMF) of Poisson distribution."
      ],
      "metadata": {
        "id": "rvXsuKUryJAr"
      }
    },
    {
      "cell_type": "code",
      "source": [
        "population = np.random.binomial(10, 0.5, 100000)\n",
        "sns.boxplot(population)"
      ],
      "metadata": {
        "colab": {
          "base_uri": "https://localhost:8080/",
          "height": 428
        },
        "id": "GH3BksJByxtf",
        "outputId": "91b85f90-5e19-46a0-d67e-7ad949e9a33f"
      },
      "execution_count": null,
      "outputs": [
        {
          "output_type": "execute_result",
          "data": {
            "text/plain": [
              "<Axes: >"
            ]
          },
          "metadata": {},
          "execution_count": 45
        },
        {
          "output_type": "display_data",
          "data": {
            "text/plain": [
              "<Figure size 640x480 with 1 Axes>"
            ],
            "image/png": "[encoded data removed]"
          },
          "metadata": {}
        }
      ]
    },
    {
      "cell_type": "markdown",
      "source": [
        "11. A company wants to test iN a new website layout leads to a higher conversion rate (percentage oN visitors\n",
        "who make a purchase). They collect data Nrom the old and new layouts to compare."
      ],
      "metadata": {
        "id": "LhVj59JM0F8E"
      }
    },
    {
      "cell_type": "code",
      "source": [
        "import scipy.stats as stats #zcritical approach\n",
        "\n",
        "sample_mean = 100\n",
        "population_mean = 90\n",
        "population_std = 16\n",
        "sample_size =60\n",
        "alpha = 0.05"
      ],
      "metadata": {
        "id": "e-LOzv7c0Uak"
      },
      "execution_count": null,
      "outputs": []
    },
    {
      "cell_type": "code",
      "source": [
        "zscore = (sample_mean - population_mean) / (population_std/np.sqrt(50))\n",
        "print(\"The zsore is \", zscore)"
      ],
      "metadata": {
        "colab": {
          "base_uri": "https://localhost:8080/"
        },
        "id": "IlqHauHl1s-v",
        "outputId": "fe09032a-eddf-43ed-a1d8-c19d511fbc15"
      },
      "execution_count": null,
      "outputs": [
        {
          "output_type": "stream",
          "name": "stdout",
          "text": [
            "The zsore is  4.419417382415922\n"
          ]
        }
      ]
    },
    {
      "cell_type": "code",
      "source": [
        "zcritical = stats.norm.ppf(1-alpha)"
      ],
      "metadata": {
        "id": "XEvA7P5a2Tf2"
      },
      "execution_count": null,
      "outputs": []
    },
    {
      "cell_type": "code",
      "source": [
        "if zscore > zcritical:\n",
        "    print(\"Reject the null hypothesis\")\n",
        "else:\n",
        "    print(\"fail to reject null hypothesis\")"
      ],
      "metadata": {
        "colab": {
          "base_uri": "https://localhost:8080/"
        },
        "id": "NdNjfULx2aAX",
        "outputId": "fa7aebde-d53f-4828-a903-ac8083ea3dba"
      },
      "execution_count": null,
      "outputs": [
        {
          "output_type": "stream",
          "name": "stdout",
          "text": [
            "Reject the null hypothesis\n"
          ]
        }
      ]
    },
    {
      "cell_type": "markdown",
      "source": [
        "12. A tutoring service claims that its program improves students' exam scores. A sample oN students who\n",
        "participated in the program was taken, and their scores beNore and aNter the program were recorded."
      ],
      "metadata": {
        "id": "FcTbv_Ar2lJ9"
      }
    },
    {
      "cell_type": "code",
      "source": [
        "import scipy\n",
        "before_program = np.array([75, 80, 85, 70, 90, 78, 92, 88, 82, 87])\n",
        "\n",
        "after_program =  np.array([80, 85, 90, 80, 92, 80, 95, 90, 85, 88])\n",
        "scipy.stats.ttest_ind(before_program, after_program)"
      ],
      "metadata": {
        "colab": {
          "base_uri": "https://localhost:8080/"
        },
        "id": "YxdQqdGe2kaI",
        "outputId": "06e0a483-5797-4fd0-abdf-320d53bfdeef"
      },
      "execution_count": null,
      "outputs": [
        {
          "output_type": "execute_result",
          "data": {
            "text/plain": [
              "TtestResult(statistic=-1.3600371723457605, pvalue=0.19061003101243315, df=18.0)"
            ]
          },
          "metadata": {},
          "execution_count": 54
        }
      ]
    },
    {
      "cell_type": "markdown",
      "source": [
        "13. A pharmaceutical company wants to determine iN a new drug is eNNective in reducing blood pressure. They\n",
        "conduct a study and record blood pressure measurements beNore and aNter administering the drug."
      ],
      "metadata": {
        "id": "Z_PLkhZuLZ9f"
      }
    },
    {
      "cell_type": "code",
      "source": [
        "import pandas as pd\n",
        "import numpy as np\n",
        "import seaborn as sns\n",
        "import scipy\n",
        "before_drug = np.array([145, 150, 140, 135, 155, 160, 152, 148, 130, 138])\n",
        "\n",
        "after_drug = np.array([130, 140, 132, 128, 145, 148, 138, 136, 125, 130])\n",
        "scipy.stats.ttest_ind(before_drug, after_drug)"
      ],
      "metadata": {
        "colab": {
          "base_uri": "https://localhost:8080/"
        },
        "id": "dnK3qdySLgtE",
        "outputId": "8dd0b7df-6bb5-46e4-9ee9-ba76ebb39d1b"
      },
      "execution_count": 2,
      "outputs": [
        {
          "output_type": "execute_result",
          "data": {
            "text/plain": [
              "TtestResult(statistic=2.639577121919447, pvalue=0.01665146345769564, df=18.0)"
            ]
          },
          "metadata": {},
          "execution_count": 2
        }
      ]
    },
    {
      "cell_type": "markdown",
      "source": [
        "14. A customer service depart:ent claims that their average response time is less than 5 minutes A sample\n",
        "of recent customer interactions was taken, and the response times were recorded."
      ],
      "metadata": {
        "id": "_ORo7eVUOFkN"
      }
    },
    {
      "cell_type": "code",
      "source": [
        "response_times = np.array([4.3, 3.8, 5.1, 4.9, 4.7, 4.2, 5.2, 4.5, 4.6, 4.4])\n",
        "np.mean(response_times),np.std(response_times)"
      ],
      "metadata": {
        "colab": {
          "base_uri": "https://localhost:8080/"
        },
        "id": "A3it12EsOcsq",
        "outputId": "64dbbce8-2f42-41ba-e2b4-2201c6e4225f"
      },
      "execution_count": 4,
      "outputs": [
        {
          "output_type": "execute_result",
          "data": {
            "text/plain": [
              "(4.57, 0.4050925820105819)"
            ]
          },
          "metadata": {},
          "execution_count": 4
        }
      ]
    },
    {
      "cell_type": "code",
      "source": [
        "null_mean = 0.04\n"
      ],
      "metadata": {
        "id": "s5BhjcjvRDmN"
      },
      "execution_count": 6,
      "outputs": []
    },
    {
      "cell_type": "code",
      "source": [
        "from statsmodels.stats.weightstats import ztest\n",
        "zscore, pvalue = ztest(response_times, value = null_mean, alternative = 'larger')"
      ],
      "metadata": {
        "id": "unwU8GyUQuP3"
      },
      "execution_count": 7,
      "outputs": []
    },
    {
      "cell_type": "code",
      "source": [
        "zscore,pvalue"
      ],
      "metadata": {
        "colab": {
          "base_uri": "https://localhost:8080/"
        },
        "id": "lhGigbl5Ro7h",
        "outputId": "c462ecc3-aa4b-4fb3-cb9b-ed4596e06ebd"
      },
      "execution_count": 8,
      "outputs": [
        {
          "output_type": "execute_result",
          "data": {
            "text/plain": [
              "(33.547886590638676, 4.8325373384731454e-247)"
            ]
          },
          "metadata": {},
          "execution_count": 8
        }
      ]
    },
    {
      "cell_type": "code",
      "source": [
        "if pvalue <= 0.04:\n",
        "    print(\"reject the null hypothesis\")\n",
        "else:\n",
        "    print(\"fail to reject null hypothesis\")"
      ],
      "metadata": {
        "colab": {
          "base_uri": "https://localhost:8080/"
        },
        "id": "oG7rEI-ZR6e8",
        "outputId": "e74b11df-fb46-4f05-ac10-8ec478d2387f"
      },
      "execution_count": 9,
      "outputs": [
        {
          "output_type": "stream",
          "name": "stdout",
          "text": [
            "reject the null hypothesis\n"
          ]
        }
      ]
    },
    {
      "cell_type": "markdown",
      "source": [
        "15. A company is testing two different website layouts to see which one leads to higher click-through rates.\n",
        "Write a Python function to perform an A/B test analysis, including calculating the t-statistic, degrees of\n",
        "freedom, and p-value."
      ],
      "metadata": {
        "id": "97HoE4e4SGQf"
      }
    },
    {
      "cell_type": "code",
      "source": [
        "import pandas as pd\n",
        "import numpy as np\n",
        "import seaborn as sns\n",
        "import scipy\n",
        "layout_a_clicks = [28, 32, 33, 29, 31, 34, 30, 35, 36, 37]\n",
        "\n",
        "layout_b_clicks = [40, 41, 38, 42, 39, 44, 43, 41, 45, 47]\n",
        "scipy.stats.ttest_ind(layout_a_clicks, layout_b_clicks)"
      ],
      "metadata": {
        "colab": {
          "base_uri": "https://localhost:8080/"
        },
        "id": "0U9BxsWpSFw0",
        "outputId": "3e271340-22ce-455c-b0bd-cbe7d8c74bef"
      },
      "execution_count": 10,
      "outputs": [
        {
          "output_type": "execute_result",
          "data": {
            "text/plain": [
              "TtestResult(statistic=-7.298102156175071, pvalue=8.833437608301987e-07, df=18.0)"
            ]
          },
          "metadata": {},
          "execution_count": 10
        }
      ]
    },
    {
      "cell_type": "markdown",
      "source": [
        "16 A pharmaceutical company wants to determine if a new drug is more effective than an existing drug in\n",
        "reducing cholesterol levelsV Create a program to analyze the clinical trial data and calculate the tstatistic and p-value for the treatment effect."
      ],
      "metadata": {
        "id": "wlJ0URdqUS4A"
      }
    },
    {
      "cell_type": "code",
      "source": [
        "import pandas as pd\n",
        "import numpy as np\n",
        "import seaborn as sns\n",
        "import scipy\n",
        "existing_drug_levels = [180, 182, 175, 185, 178, 176, 172, 184, 179, 183]\n",
        "\n",
        "new_drug_levels = [170, 172, 165, 168, 175, 173, 170, 178, 172, 176]\n",
        "scipy.stats.ttest_ind(existing_drug_levels, new_drug_levels)"
      ],
      "metadata": {
        "colab": {
          "base_uri": "https://localhost:8080/"
        },
        "id": "QGUPUwjRUwxI",
        "outputId": "50ee4c9d-0181-4bc4-aa46-901e6ebcce78"
      },
      "execution_count": 11,
      "outputs": [
        {
          "output_type": "execute_result",
          "data": {
            "text/plain": [
              "TtestResult(statistic=4.14048098620866, pvalue=0.0006143398442372505, df=18.0)"
            ]
          },
          "metadata": {},
          "execution_count": 11
        }
      ]
    },
    {
      "cell_type": "markdown",
      "source": [
        "17. A school district introduces an educational intervention program to improve math scores. Write a Python\n",
        "function to analyze pre- and post-intervention test scores, calculating the t-statistic and p-value to\n",
        "determine if the intervention had a significant impact."
      ],
      "metadata": {
        "id": "D4za1fEUVg5-"
      }
    },
    {
      "cell_type": "code",
      "source": [
        "import pandas as pd\n",
        "import numpy as np\n",
        "import seaborn as sns\n",
        "import scipy\n",
        "pre_intervention_scores = [80, 85, 90, 75, 88, 82, 92, 78, 85, 87]\n",
        "\n",
        "post_intervention_scores = [90, 92, 88, 92, 95, 91, 96, 93, 89, 93]\n",
        "scipy.stats.ttest_ind(pre_intervention_scores, post_intervention_scores)"
      ],
      "metadata": {
        "colab": {
          "base_uri": "https://localhost:8080/"
        },
        "id": "T1xdv26aV1Fa",
        "outputId": "1fa45c0e-3cc6-4932-8cfe-e556e397ecd2"
      },
      "execution_count": 13,
      "outputs": [
        {
          "output_type": "execute_result",
          "data": {
            "text/plain": [
              "TtestResult(statistic=-4.080355128162116, pvalue=0.0007022570725706455, df=18.0)"
            ]
          },
          "metadata": {},
          "execution_count": 13
        }
      ]
    },
    {
      "cell_type": "markdown",
      "source": [
        "18. An HR department wants to investigate is there's a gender-based salary gap within the company. Develop\n",
        "a program to analyze salary data, calculate the t-statistic, and determine if there's a statistically\n",
        "significant difference between the average salaries of male and female employees."
      ],
      "metadata": {
        "id": "UKuZvfTVW5kQ"
      }
    },
    {
      "cell_type": "code",
      "source": [
        "import pandas as pd\n",
        "import numpy as np\n",
        "import seaborn as sns\n",
        "import scipy\n",
        "male_salaries = np.random.normal(50000,10000,20)\n",
        "\n",
        "female_salaries = np.random.normal(55000,9000,20)\n",
        "scipy.stats.ttest_ind(male_salaries, female_salaries)\n"
      ],
      "metadata": {
        "colab": {
          "base_uri": "https://localhost:8080/"
        },
        "id": "wbNhPIq4XjGe",
        "outputId": "a008fcf4-6492-4037-b7ed-c48d108ab692"
      },
      "execution_count": 15,
      "outputs": [
        {
          "output_type": "execute_result",
          "data": {
            "text/plain": [
              "TtestResult(statistic=-3.870469977013999, pvalue=0.0004138957456086584, df=38.0)"
            ]
          },
          "metadata": {},
          "execution_count": 15
        }
      ]
    },
    {
      "cell_type": "markdown",
      "source": [
        "19. A manufacturer produces two different versions of a product and wants to compare their quality scores.\n",
        "Create a Python function to analyze quality assessment data, calculate the t-statistic, and decide\n",
        "whether there's a significant difference in quality between the two versions."
      ],
      "metadata": {
        "id": "7ugyGRhnYX84"
      }
    },
    {
      "cell_type": "code",
      "source": [
        "import pandas as pd\n",
        "import numpy as np\n",
        "import seaborn as sns\n",
        "import scipy\n",
        "version1_scores = [85, 88, 82, 89, 87, 84, 90, 88, 85, 86, 91, 83, 87, 84, 89, 86, 84, 88, 85, 86, 89, 90, 87, 88, 85]\n",
        "\n",
        "version2_scores = [80, 78, 83, 81, 79, 82, 76, 80, 78, 81, 77, 82, 80, 79, 82, 79, 80, 81, 79, 82, 79, 78, 80, 81, 82]\n",
        "scipy.stats.ttest_ind(version1_scores, version2_scores)"
      ],
      "metadata": {
        "colab": {
          "base_uri": "https://localhost:8080/"
        },
        "id": "A-TqVQ7fYsSd",
        "outputId": "07b30d5e-b88b-491b-d3bd-892933ac22d7"
      },
      "execution_count": 16,
      "outputs": [
        {
          "output_type": "execute_result",
          "data": {
            "text/plain": [
              "TtestResult(statistic=11.325830417646698, pvalue=3.6824250702873965e-15, df=48.0)"
            ]
          },
          "metadata": {},
          "execution_count": 16
        }
      ]
    },
    {
      "cell_type": "markdown",
      "source": [
        " 20. A restaurant chain collects customer satisfaction scores for two different branches. Write a program to\n",
        "analyze the scores, calculate the t-statistic, and determine i@ there's a statistically significant difference in\n",
        "customer satisfaction between the branches."
      ],
      "metadata": {
        "id": "oUy_gZFcY6u1"
      }
    },
    {
      "cell_type": "code",
      "source": [
        "import pandas as pd\n",
        "import numpy as np\n",
        "import seaborn as sns\n",
        "import scipy\n",
        "branch_a_scores = [4, 5, 3, 4, 5, 4, 5, 3, 4, 4, 5, 4, 4, 3, 4, 5, 5, 4, 3, 4, 5, 4, 3, 5, 4, 4, 5, 3, 4, 5, 4]\n",
        "\n",
        "branch_b_scores = [3, 4, 2, 3, 4, 3, 4, 2, 3, 3, 4, 3, 3, 2, 3, 4, 4, 3, 2, 3, 4, 3, 2, 4, 3, 3, 4, 2, 3, 4, 3]\n",
        "scipy.stats.ttest_ind(branch_a_scores, branch_b_scores)"
      ],
      "metadata": {
        "colab": {
          "base_uri": "https://localhost:8080/"
        },
        "id": "mfW8UVBzZEYG",
        "outputId": "b8c51086-d35b-410f-e29e-05d0d721deee"
      },
      "execution_count": 17,
      "outputs": [
        {
          "output_type": "execute_result",
          "data": {
            "text/plain": [
              "TtestResult(statistic=5.480077554195743, pvalue=8.895290509945655e-07, df=60.0)"
            ]
          },
          "metadata": {},
          "execution_count": 17
        }
      ]
    },
    {
      "cell_type": "markdown",
      "source": [
        "21. A political analyst wants to determine is there is a significant association between age groups and voter\n",
        "preferences Candidate A or Candidate B. They collect data from a sample of 500 voters and classify\n",
        "them into different age groups and candidate preferences. Perform a Chi-Square test to determine is\n",
        "there is a significant association between age groups and voter preferences.\n",
        "\n",
        "\n"
      ],
      "metadata": {
        "id": "TzzmqZxyZeBE"
      }
    },
    {
      "cell_type": "code",
      "source": [
        "np.random.seed(0)\n",
        "\n",
        "age_groups = np.random.choice([ '18- 30' , '31 - 50' , '51+', '51+'], size=30)\n",
        "\n",
        "voter_preferences = np.random.choice(['Candidate A', 'Candidate B'], size=30)"
      ],
      "metadata": {
        "id": "UZ5n3zybZ1W4"
      },
      "execution_count": 21,
      "outputs": []
    },
    {
      "cell_type": "markdown",
      "source": [
        "\n",
        " 24. A company produces three different versions of a product: Standard, Premium, and Deluxe. The\n",
        "company wants to determine if there is a significant difference in customer satisfaction scores among the\n",
        "three product versions. They conducted a survey and collected customer satisfaction scores for each\n",
        "version from a random sample of customers. Perform an ANOVA test to determine if there is a significant\n",
        "difference in customer satisfaction scores."
      ],
      "metadata": {
        "id": "atpPO54hbRV8"
      }
    },
    {
      "cell_type": "code",
      "source": [
        "  standard_scores = [80, 85, 90, 78, 88, 82, 92, 78, 85, 87]\n",
        "\n",
        "  premium_scores = [90, 92, 88, 92, 95, 91, 96, 93, 89, 93]\n",
        "\n",
        "  deluxe_scores = [95, 98, 92, 97, 96, 94, 98, 97, 92, 99]"
      ],
      "metadata": {
        "id": "ReJhKZhSbWBg"
      },
      "execution_count": 22,
      "outputs": []
    }
  ]
}